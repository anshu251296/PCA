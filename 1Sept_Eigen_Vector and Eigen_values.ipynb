{
 "cells": [
  {
   "cell_type": "code",
   "execution_count": 18,
   "id": "fb828041",
   "metadata": {},
   "outputs": [],
   "source": [
    "import numpy as np\n",
    "from numpy import linalg  # linearalgebra"
   ]
  },
  {
   "cell_type": "code",
   "execution_count": 19,
   "id": "402dfeca",
   "metadata": {},
   "outputs": [],
   "source": [
    "# Matrix \n",
    "# A.dot_prod(Ainv) = I"
   ]
  },
  {
   "cell_type": "code",
   "execution_count": 25,
   "id": "e9ba6ab7",
   "metadata": {},
   "outputs": [
    {
     "name": "stdout",
     "output_type": "stream",
     "text": [
      "[[2 3]\n",
      " [1 2]]\n",
      "(2, 2)\n"
     ]
    }
   ],
   "source": [
    "a = np.array([[2,3],[1,2]])\n",
    "print(a)\n",
    "print(a.shape)"
   ]
  },
  {
   "cell_type": "code",
   "execution_count": 28,
   "id": "5826c3a2",
   "metadata": {},
   "outputs": [
    {
     "name": "stdout",
     "output_type": "stream",
     "text": [
      "[[ 2. -3.]\n",
      " [-1.  2.]]\n"
     ]
    }
   ],
   "source": [
    "a_inv = linalg.inv(a)\n",
    "print(a_inv)"
   ]
  },
  {
   "cell_type": "code",
   "execution_count": 29,
   "id": "cfb1d5f4",
   "metadata": {},
   "outputs": [
    {
     "name": "stdout",
     "output_type": "stream",
     "text": [
      "[[1. 0.]\n",
      " [0. 1.]]\n"
     ]
    }
   ],
   "source": [
    "res = np.dot(a,a_inv)\n",
    "print(res)"
   ]
  },
  {
   "cell_type": "markdown",
   "id": "e5e6746b",
   "metadata": {},
   "source": [
    "#### Matrix Inverse\n",
    "1) If A is a sqaure matrix,then there exists a matrix B such that np.dot(A,B) = I where I is the identity matrix\n",
    "\n",
    "#### Trace\n",
    "1) Sum of primary diagonal elements\n"
   ]
  },
  {
   "cell_type": "code",
   "execution_count": 30,
   "id": "b77bddb2",
   "metadata": {},
   "outputs": [
    {
     "name": "stdout",
     "output_type": "stream",
     "text": [
      "[[ 1  2 10]\n",
      " [ 4  5  6]\n",
      " [ 7  8  9]]\n",
      "15\n"
     ]
    }
   ],
   "source": [
    "h = np.array([[1,2,10],[4,5,6],[7,8,9]])\n",
    "trace = np.trace(h)\n",
    "print(h)\n",
    "print(trace)"
   ]
  },
  {
   "cell_type": "markdown",
   "id": "4050547d",
   "metadata": {},
   "source": [
    "#### Eigen Values and Eigen Vectors\n",
    "Link -> https://www.mathsisfun.com/algebra/eigenvalue.html"
   ]
  },
  {
   "cell_type": "markdown",
   "id": "460b06d1",
   "metadata": {},
   "source": [
    "#### Eigen values and Eigen Vectors\n",
    "\n",
    "<b>Av = λv</b>\n",
    "\n",
    "where <br>\n",
    "A = is the square matrix<br>\n",
    "λ = Eigen value<br>\n",
    "v = Eigen vectors\n",
    "\n",
    "Original matrix A can be obtained from λ and v as follows\n",
    "np.dot(np.dot(v,λ),inv(v))\n",
    "\n",
    "Primary Diagnoal = Diagonal matrix elements starting from top left to bottom right.\n"
   ]
  },
  {
   "cell_type": "code",
   "execution_count": 36,
   "id": "3064ba7d",
   "metadata": {},
   "outputs": [
    {
     "name": "stdout",
     "output_type": "stream",
     "text": [
      "[[2 3]\n",
      " [1 2]]\n",
      "(2, 2)\n"
     ]
    }
   ],
   "source": [
    "a = np.array([[2,3],[1,2]])\n",
    "print(a)\n",
    "print(a.shape)"
   ]
  },
  {
   "cell_type": "code",
   "execution_count": 41,
   "id": "f2d7b87e",
   "metadata": {},
   "outputs": [
    {
     "name": "stdout",
     "output_type": "stream",
     "text": [
      "[3.73205081 0.26794919]\n",
      "[[ 0.8660254 -0.8660254]\n",
      " [ 0.5        0.5      ]]\n",
      "[[ 0.57735027  1.        ]\n",
      " [-0.57735027  1.        ]]\n"
     ]
    }
   ],
   "source": [
    "eig_val,eig_vec = linalg.eig(a)\n",
    "print(eig_val)\n",
    "print(eig_vec)\n",
    "inv_eig_vec = linalg.inv(eig_vec) \n",
    "print(inv_eig_vec)"
   ]
  },
  {
   "cell_type": "code",
   "execution_count": 42,
   "id": "2665ede8",
   "metadata": {},
   "outputs": [
    {
     "name": "stdout",
     "output_type": "stream",
     "text": [
      "[[2 3]\n",
      " [1 2]]\n"
     ]
    }
   ],
   "source": [
    "print(a)"
   ]
  },
  {
   "cell_type": "code",
   "execution_count": 47,
   "id": "7937571d",
   "metadata": {},
   "outputs": [
    {
     "name": "stdout",
     "output_type": "stream",
     "text": [
      "[[3.73205081 0.        ]\n",
      " [0.         0.26794919]]\n",
      "[[ 3.23205081 -0.23205081]\n",
      " [ 1.86602541  0.1339746 ]]\n",
      "[[2. 3.]\n",
      " [1. 2.]]\n"
     ]
    }
   ],
   "source": [
    "eval1 = np.array([[3.73205081,0],[0, 0.26794919]])\n",
    "print(eval1)\n",
    "r1 = np.dot(eig_vec,eval1)\n",
    "print(r1)\n",
    "r2 = np.dot(r1,linalg.inv(eig_vec))\n",
    "print(r2)"
   ]
  },
  {
   "cell_type": "code",
   "execution_count": 33,
   "id": "d62f0c97",
   "metadata": {},
   "outputs": [
    {
     "name": "stdout",
     "output_type": "stream",
     "text": [
      "[[3.73205081 0.        ]\n",
      " [0.         0.26794919]]\n",
      "[[ 3.23205081 -0.23205081]\n",
      " [ 1.86602541  0.1339746 ]]\n",
      "[[ 0.57735027  1.        ]\n",
      " [-0.57735027  1.        ]]\n",
      "[[2. 3.]\n",
      " [1. 2.]]\n"
     ]
    }
   ],
   "source": [
    "eval1 = np.array([[3.73205081,0],[0, 0.26794919]])\n",
    "print(eval1)\n",
    "r1 = np.matmul(eig_vec,eval1)\n",
    "print(r1)\n",
    "inv_eig_vect = linalg.inv(eig_vec)\n",
    "print(inv_eig_vect)\n",
    "r2 = np.matmul(r1,inv_eig_vect)\n",
    "print(r2)"
   ]
  },
  {
   "cell_type": "code",
   "execution_count": 32,
   "id": "873028b7",
   "metadata": {},
   "outputs": [
    {
     "name": "stdout",
     "output_type": "stream",
     "text": [
      "[[2. 3.]\n",
      " [1. 2.]]\n"
     ]
    }
   ],
   "source": [
    "res = (eig_vec@eval1)@linalg.inv(eig_vec)\n",
    "print(res)"
   ]
  },
  {
   "cell_type": "markdown",
   "id": "78337505",
   "metadata": {},
   "source": [
    "#### Eigen value and Eigen Vector using Scipy"
   ]
  },
  {
   "cell_type": "code",
   "execution_count": 48,
   "id": "14d12d4b",
   "metadata": {},
   "outputs": [],
   "source": [
    "from scipy.linalg import eig as eigen"
   ]
  },
  {
   "cell_type": "code",
   "execution_count": 36,
   "id": "9b4b06bb",
   "metadata": {},
   "outputs": [
    {
     "name": "stdout",
     "output_type": "stream",
     "text": [
      "[3.73205081+0.j 0.26794919+0.j]\n",
      "[[ 0.8660254 -0.8660254]\n",
      " [ 0.5        0.5      ]]\n",
      "[[ 0.57735027  1.        ]\n",
      " [-0.57735027  1.        ]]\n"
     ]
    }
   ],
   "source": [
    "eig_val,eig_vec = eigen(a)\n",
    "print(eig_val)\n",
    "print(eig_vec)\n",
    "inv_eig_vec = linalg.inv(eig_vec) \n",
    "print(inv_eig_vec)"
   ]
  },
  {
   "cell_type": "code",
   "execution_count": null,
   "id": "a61ebc73",
   "metadata": {},
   "outputs": [],
   "source": []
  }
 ],
 "metadata": {
  "kernelspec": {
   "display_name": "Python 3",
   "language": "python",
   "name": "python3"
  },
  "language_info": {
   "codemirror_mode": {
    "name": "ipython",
    "version": 3
   },
   "file_extension": ".py",
   "mimetype": "text/x-python",
   "name": "python",
   "nbconvert_exporter": "python",
   "pygments_lexer": "ipython3",
   "version": "3.8.8"
  }
 },
 "nbformat": 4,
 "nbformat_minor": 5
}
