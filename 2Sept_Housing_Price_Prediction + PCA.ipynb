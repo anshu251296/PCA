{
 "cells": [
  {
   "cell_type": "code",
   "execution_count": 11,
   "id": "12b7276f",
   "metadata": {},
   "outputs": [],
   "source": [
    "import numpy as np\n",
    "import pandas as pd\n",
    "import matplotlib.pyplot as plt\n",
    "from sklearn.model_selection import train_test_split\n",
    "from sklearn.metrics import confusion_matrix,classification_report\n",
    "from sklearn.metrics import mean_squared_error,mean_absolute_error,r2_score"
   ]
  },
  {
   "cell_type": "code",
   "execution_count": 12,
   "id": "4a004c23",
   "metadata": {},
   "outputs": [],
   "source": [
    "from sklearn.linear_model import LinearRegression"
   ]
  },
  {
   "cell_type": "code",
   "execution_count": 13,
   "id": "a2549f65",
   "metadata": {},
   "outputs": [
    {
     "data": {
      "text/html": [
       "<div>\n",
       "<style scoped>\n",
       "    .dataframe tbody tr th:only-of-type {\n",
       "        vertical-align: middle;\n",
       "    }\n",
       "\n",
       "    .dataframe tbody tr th {\n",
       "        vertical-align: top;\n",
       "    }\n",
       "\n",
       "    .dataframe thead th {\n",
       "        text-align: right;\n",
       "    }\n",
       "</style>\n",
       "<table border=\"1\" class=\"dataframe\">\n",
       "  <thead>\n",
       "    <tr style=\"text-align: right;\">\n",
       "      <th></th>\n",
       "      <th>Id</th>\n",
       "      <th>MSSubClass</th>\n",
       "      <th>MSZoning</th>\n",
       "      <th>LotFrontage</th>\n",
       "      <th>LotArea</th>\n",
       "      <th>Street</th>\n",
       "      <th>Alley</th>\n",
       "      <th>LotShape</th>\n",
       "      <th>LandContour</th>\n",
       "      <th>Utilities</th>\n",
       "      <th>...</th>\n",
       "      <th>PoolArea</th>\n",
       "      <th>PoolQC</th>\n",
       "      <th>Fence</th>\n",
       "      <th>MiscFeature</th>\n",
       "      <th>MiscVal</th>\n",
       "      <th>MoSold</th>\n",
       "      <th>YrSold</th>\n",
       "      <th>SaleType</th>\n",
       "      <th>SaleCondition</th>\n",
       "      <th>SalePrice</th>\n",
       "    </tr>\n",
       "  </thead>\n",
       "  <tbody>\n",
       "    <tr>\n",
       "      <th>0</th>\n",
       "      <td>1</td>\n",
       "      <td>60</td>\n",
       "      <td>RL</td>\n",
       "      <td>65.0</td>\n",
       "      <td>8450</td>\n",
       "      <td>Pave</td>\n",
       "      <td>NaN</td>\n",
       "      <td>Reg</td>\n",
       "      <td>Lvl</td>\n",
       "      <td>AllPub</td>\n",
       "      <td>...</td>\n",
       "      <td>0</td>\n",
       "      <td>NaN</td>\n",
       "      <td>NaN</td>\n",
       "      <td>NaN</td>\n",
       "      <td>0</td>\n",
       "      <td>2</td>\n",
       "      <td>2008</td>\n",
       "      <td>WD</td>\n",
       "      <td>Normal</td>\n",
       "      <td>208500</td>\n",
       "    </tr>\n",
       "    <tr>\n",
       "      <th>1</th>\n",
       "      <td>2</td>\n",
       "      <td>20</td>\n",
       "      <td>RL</td>\n",
       "      <td>80.0</td>\n",
       "      <td>9600</td>\n",
       "      <td>Pave</td>\n",
       "      <td>NaN</td>\n",
       "      <td>Reg</td>\n",
       "      <td>Lvl</td>\n",
       "      <td>AllPub</td>\n",
       "      <td>...</td>\n",
       "      <td>0</td>\n",
       "      <td>NaN</td>\n",
       "      <td>NaN</td>\n",
       "      <td>NaN</td>\n",
       "      <td>0</td>\n",
       "      <td>5</td>\n",
       "      <td>2007</td>\n",
       "      <td>WD</td>\n",
       "      <td>Normal</td>\n",
       "      <td>181500</td>\n",
       "    </tr>\n",
       "    <tr>\n",
       "      <th>2</th>\n",
       "      <td>3</td>\n",
       "      <td>60</td>\n",
       "      <td>RL</td>\n",
       "      <td>68.0</td>\n",
       "      <td>11250</td>\n",
       "      <td>Pave</td>\n",
       "      <td>NaN</td>\n",
       "      <td>IR1</td>\n",
       "      <td>Lvl</td>\n",
       "      <td>AllPub</td>\n",
       "      <td>...</td>\n",
       "      <td>0</td>\n",
       "      <td>NaN</td>\n",
       "      <td>NaN</td>\n",
       "      <td>NaN</td>\n",
       "      <td>0</td>\n",
       "      <td>9</td>\n",
       "      <td>2008</td>\n",
       "      <td>WD</td>\n",
       "      <td>Normal</td>\n",
       "      <td>223500</td>\n",
       "    </tr>\n",
       "    <tr>\n",
       "      <th>3</th>\n",
       "      <td>4</td>\n",
       "      <td>70</td>\n",
       "      <td>RL</td>\n",
       "      <td>60.0</td>\n",
       "      <td>9550</td>\n",
       "      <td>Pave</td>\n",
       "      <td>NaN</td>\n",
       "      <td>IR1</td>\n",
       "      <td>Lvl</td>\n",
       "      <td>AllPub</td>\n",
       "      <td>...</td>\n",
       "      <td>0</td>\n",
       "      <td>NaN</td>\n",
       "      <td>NaN</td>\n",
       "      <td>NaN</td>\n",
       "      <td>0</td>\n",
       "      <td>2</td>\n",
       "      <td>2006</td>\n",
       "      <td>WD</td>\n",
       "      <td>Abnorml</td>\n",
       "      <td>140000</td>\n",
       "    </tr>\n",
       "    <tr>\n",
       "      <th>4</th>\n",
       "      <td>5</td>\n",
       "      <td>60</td>\n",
       "      <td>RL</td>\n",
       "      <td>84.0</td>\n",
       "      <td>14260</td>\n",
       "      <td>Pave</td>\n",
       "      <td>NaN</td>\n",
       "      <td>IR1</td>\n",
       "      <td>Lvl</td>\n",
       "      <td>AllPub</td>\n",
       "      <td>...</td>\n",
       "      <td>0</td>\n",
       "      <td>NaN</td>\n",
       "      <td>NaN</td>\n",
       "      <td>NaN</td>\n",
       "      <td>0</td>\n",
       "      <td>12</td>\n",
       "      <td>2008</td>\n",
       "      <td>WD</td>\n",
       "      <td>Normal</td>\n",
       "      <td>250000</td>\n",
       "    </tr>\n",
       "  </tbody>\n",
       "</table>\n",
       "<p>5 rows × 81 columns</p>\n",
       "</div>"
      ],
      "text/plain": [
       "   Id  MSSubClass MSZoning  LotFrontage  LotArea Street Alley LotShape  \\\n",
       "0   1          60       RL         65.0     8450   Pave   NaN      Reg   \n",
       "1   2          20       RL         80.0     9600   Pave   NaN      Reg   \n",
       "2   3          60       RL         68.0    11250   Pave   NaN      IR1   \n",
       "3   4          70       RL         60.0     9550   Pave   NaN      IR1   \n",
       "4   5          60       RL         84.0    14260   Pave   NaN      IR1   \n",
       "\n",
       "  LandContour Utilities  ... PoolArea PoolQC Fence MiscFeature MiscVal MoSold  \\\n",
       "0         Lvl    AllPub  ...        0    NaN   NaN         NaN       0      2   \n",
       "1         Lvl    AllPub  ...        0    NaN   NaN         NaN       0      5   \n",
       "2         Lvl    AllPub  ...        0    NaN   NaN         NaN       0      9   \n",
       "3         Lvl    AllPub  ...        0    NaN   NaN         NaN       0      2   \n",
       "4         Lvl    AllPub  ...        0    NaN   NaN         NaN       0     12   \n",
       "\n",
       "  YrSold  SaleType  SaleCondition  SalePrice  \n",
       "0   2008        WD         Normal     208500  \n",
       "1   2007        WD         Normal     181500  \n",
       "2   2008        WD         Normal     223500  \n",
       "3   2006        WD        Abnorml     140000  \n",
       "4   2008        WD         Normal     250000  \n",
       "\n",
       "[5 rows x 81 columns]"
      ]
     },
     "execution_count": 13,
     "metadata": {},
     "output_type": "execute_result"
    }
   ],
   "source": [
    "df = pd.read_csv('houseprice.csv')\n",
    "df.head()"
   ]
  },
  {
   "cell_type": "code",
   "execution_count": 14,
   "id": "a3c9ef9c",
   "metadata": {},
   "outputs": [
    {
     "data": {
      "text/plain": [
       "(1460, 81)"
      ]
     },
     "execution_count": 14,
     "metadata": {},
     "output_type": "execute_result"
    }
   ],
   "source": [
    "df.shape"
   ]
  },
  {
   "cell_type": "code",
   "execution_count": 16,
   "id": "d6840ed9",
   "metadata": {},
   "outputs": [
    {
     "data": {
      "text/plain": [
       "Index(['Id', 'MSSubClass', 'MSZoning', 'LotFrontage', 'LotArea', 'Street',\n",
       "       'Alley', 'LotShape', 'LandContour', 'Utilities', 'LotConfig',\n",
       "       'LandSlope', 'Neighborhood', 'Condition1', 'Condition2', 'BldgType',\n",
       "       'HouseStyle', 'OverallQual', 'OverallCond', 'YearBuilt', 'YearRemodAdd',\n",
       "       'RoofStyle', 'RoofMatl', 'Exterior1st', 'Exterior2nd', 'MasVnrType',\n",
       "       'MasVnrArea', 'ExterQual', 'ExterCond', 'Foundation', 'BsmtQual',\n",
       "       'BsmtCond', 'BsmtExposure', 'BsmtFinType1', 'BsmtFinSF1',\n",
       "       'BsmtFinType2', 'BsmtFinSF2', 'BsmtUnfSF', 'TotalBsmtSF', 'Heating',\n",
       "       'HeatingQC', 'CentralAir', 'Electrical', '1stFlrSF', '2ndFlrSF',\n",
       "       'LowQualFinSF', 'GrLivArea', 'BsmtFullBath', 'BsmtHalfBath', 'FullBath',\n",
       "       'HalfBath', 'BedroomAbvGr', 'KitchenAbvGr', 'KitchenQual',\n",
       "       'TotRmsAbvGrd', 'Functional', 'Fireplaces', 'FireplaceQu', 'GarageType',\n",
       "       'GarageYrBlt', 'GarageFinish', 'GarageCars', 'GarageArea', 'GarageQual',\n",
       "       'GarageCond', 'PavedDrive', 'WoodDeckSF', 'OpenPorchSF',\n",
       "       'EnclosedPorch', '3SsnPorch', 'ScreenPorch', 'PoolArea', 'PoolQC',\n",
       "       'Fence', 'MiscFeature', 'MiscVal', 'MoSold', 'YrSold', 'SaleType',\n",
       "       'SaleCondition', 'SalePrice'],\n",
       "      dtype='object')"
      ]
     },
     "execution_count": 16,
     "metadata": {},
     "output_type": "execute_result"
    }
   ],
   "source": [
    "df.columns"
   ]
  },
  {
   "cell_type": "code",
   "execution_count": 15,
   "id": "82bb827d",
   "metadata": {},
   "outputs": [
    {
     "data": {
      "text/plain": [
       "LotFrontage      259\n",
       "Alley           1369\n",
       "MasVnrType         8\n",
       "MasVnrArea         8\n",
       "BsmtQual          37\n",
       "BsmtCond          37\n",
       "BsmtExposure      38\n",
       "BsmtFinType1      37\n",
       "BsmtFinType2      38\n",
       "Electrical         1\n",
       "FireplaceQu      690\n",
       "GarageType        81\n",
       "GarageYrBlt       81\n",
       "GarageFinish      81\n",
       "GarageQual        81\n",
       "GarageCond        81\n",
       "PoolQC          1453\n",
       "Fence           1179\n",
       "MiscFeature     1406\n",
       "dtype: int64"
      ]
     },
     "execution_count": 15,
     "metadata": {},
     "output_type": "execute_result"
    }
   ],
   "source": [
    "nv = df.isnull().sum()\n",
    "nv[nv>0]"
   ]
  },
  {
   "cell_type": "code",
   "execution_count": 17,
   "id": "a30475bc",
   "metadata": {},
   "outputs": [
    {
     "data": {
      "text/plain": [
       "0.4726027397260274"
      ]
     },
     "execution_count": 17,
     "metadata": {},
     "output_type": "execute_result"
    }
   ],
   "source": [
    "690/1460"
   ]
  },
  {
   "cell_type": "code",
   "execution_count": 18,
   "id": "e56a357a",
   "metadata": {},
   "outputs": [
    {
     "data": {
      "text/plain": [
       "Gd    3\n",
       "Ex    2\n",
       "Fa    2\n",
       "Name: PoolQC, dtype: int64"
      ]
     },
     "execution_count": 18,
     "metadata": {},
     "output_type": "execute_result"
    }
   ],
   "source": [
    "df['PoolQC'].value_counts()"
   ]
  },
  {
   "cell_type": "code",
   "execution_count": 19,
   "id": "0970702e",
   "metadata": {},
   "outputs": [
    {
     "data": {
      "text/plain": [
       "Grvl    50\n",
       "Pave    41\n",
       "Name: Alley, dtype: int64"
      ]
     },
     "execution_count": 19,
     "metadata": {},
     "output_type": "execute_result"
    }
   ],
   "source": [
    "df['Alley'].value_counts()"
   ]
  },
  {
   "cell_type": "code",
   "execution_count": 20,
   "id": "a0a67210",
   "metadata": {},
   "outputs": [
    {
     "data": {
      "text/plain": [
       "MnPrv    157\n",
       "GdPrv     59\n",
       "GdWo      54\n",
       "MnWw      11\n",
       "Name: Fence, dtype: int64"
      ]
     },
     "execution_count": 20,
     "metadata": {},
     "output_type": "execute_result"
    }
   ],
   "source": [
    "df['Fence'].value_counts()"
   ]
  },
  {
   "cell_type": "code",
   "execution_count": 21,
   "id": "fa4c6dc5",
   "metadata": {},
   "outputs": [
    {
     "data": {
      "text/plain": [
       "Shed    49\n",
       "Othr     2\n",
       "Gar2     2\n",
       "TenC     1\n",
       "Name: MiscFeature, dtype: int64"
      ]
     },
     "execution_count": 21,
     "metadata": {},
     "output_type": "execute_result"
    }
   ],
   "source": [
    "df['MiscFeature'].value_counts()"
   ]
  },
  {
   "cell_type": "code",
   "execution_count": 22,
   "id": "0731873f",
   "metadata": {},
   "outputs": [
    {
     "data": {
      "text/plain": [
       "(1460, 76)"
      ]
     },
     "execution_count": 22,
     "metadata": {},
     "output_type": "execute_result"
    }
   ],
   "source": [
    "df.drop(['Id','Alley','PoolQC','Fence','MiscFeature'],axis=1,inplace=True)\n",
    "df.shape"
   ]
  },
  {
   "cell_type": "code",
   "execution_count": 23,
   "id": "0ead45a8",
   "metadata": {},
   "outputs": [
    {
     "data": {
      "text/plain": [
       "LotFrontage     259\n",
       "MasVnrType        8\n",
       "MasVnrArea        8\n",
       "BsmtQual         37\n",
       "BsmtCond         37\n",
       "BsmtExposure     38\n",
       "BsmtFinType1     37\n",
       "BsmtFinType2     38\n",
       "Electrical        1\n",
       "FireplaceQu     690\n",
       "GarageType       81\n",
       "GarageYrBlt      81\n",
       "GarageFinish     81\n",
       "GarageQual       81\n",
       "GarageCond       81\n",
       "dtype: int64"
      ]
     },
     "execution_count": 23,
     "metadata": {},
     "output_type": "execute_result"
    }
   ],
   "source": [
    "nv = df.isnull().sum()\n",
    "nv[nv>0]"
   ]
  },
  {
   "cell_type": "markdown",
   "id": "66451ef0",
   "metadata": {},
   "source": [
    "#### Basement Related columns"
   ]
  },
  {
   "cell_type": "code",
   "execution_count": null,
   "id": "2a8f0296",
   "metadata": {},
   "outputs": [],
   "source": [
    "# BsmtQual         37\n",
    "# BsmtCond         37\n",
    "# BsmtExposure     38\n",
    "# BsmtFinType1     37\n",
    "# BsmtFinType2     38"
   ]
  },
  {
   "cell_type": "code",
   "execution_count": 28,
   "id": "763e50a2",
   "metadata": {},
   "outputs": [
    {
     "data": {
      "text/plain": [
       "Unf    1256\n",
       "Rec      54\n",
       "LwQ      46\n",
       "BLQ      33\n",
       "ALQ      19\n",
       "GLQ      14\n",
       "Name: BsmtFinType2, dtype: int64"
      ]
     },
     "execution_count": 28,
     "metadata": {},
     "output_type": "execute_result"
    }
   ],
   "source": [
    "df['BsmtFinType2'].value_counts()"
   ]
  },
  {
   "cell_type": "code",
   "execution_count": 29,
   "id": "ce75eb46",
   "metadata": {},
   "outputs": [],
   "source": [
    "df['BsmtQual'].fillna('No Basement',inplace=True)\n",
    "df['BsmtCond'].fillna('No Basement',inplace=True)\n",
    "df['BsmtExposure'].fillna('No Basement',inplace=True)\n",
    "df['BsmtFinType1'].fillna('No Basement',inplace=True)\n",
    "df['BsmtFinType2'].fillna('No Basement',inplace=True)"
   ]
  },
  {
   "cell_type": "code",
   "execution_count": 30,
   "id": "163bc299",
   "metadata": {},
   "outputs": [
    {
     "data": {
      "text/plain": [
       "LotFrontage     259\n",
       "MasVnrType        8\n",
       "MasVnrArea        8\n",
       "Electrical        1\n",
       "FireplaceQu     690\n",
       "GarageType       81\n",
       "GarageYrBlt      81\n",
       "GarageFinish     81\n",
       "GarageQual       81\n",
       "GarageCond       81\n",
       "dtype: int64"
      ]
     },
     "execution_count": 30,
     "metadata": {},
     "output_type": "execute_result"
    }
   ],
   "source": [
    "nv = df.isnull().sum()\n",
    "nv[nv>0]"
   ]
  },
  {
   "cell_type": "markdown",
   "id": "3ed8f682",
   "metadata": {},
   "source": [
    "#### Garage related Columns"
   ]
  },
  {
   "cell_type": "code",
   "execution_count": null,
   "id": "20f7dbde",
   "metadata": {},
   "outputs": [],
   "source": [
    "# GarageType       81\n",
    "# GarageYrBlt      81\n",
    "# GarageFinish     81\n",
    "# GarageQual       81\n",
    "# GarageCond       81"
   ]
  },
  {
   "cell_type": "code",
   "execution_count": 34,
   "id": "74a94cf7",
   "metadata": {},
   "outputs": [
    {
     "data": {
      "text/plain": [
       "2005.0    65\n",
       "2006.0    59\n",
       "2004.0    53\n",
       "2003.0    50\n",
       "2007.0    49\n",
       "          ..\n",
       "1906.0     1\n",
       "1908.0     1\n",
       "1933.0     1\n",
       "1900.0     1\n",
       "1927.0     1\n",
       "Name: GarageYrBlt, Length: 97, dtype: int64"
      ]
     },
     "execution_count": 34,
     "metadata": {},
     "output_type": "execute_result"
    }
   ],
   "source": [
    "df['GarageYrBlt'].value_counts()"
   ]
  },
  {
   "cell_type": "code",
   "execution_count": 41,
   "id": "aa97ee4d",
   "metadata": {},
   "outputs": [
    {
     "name": "stdout",
     "output_type": "stream",
     "text": [
      "['GarageType', 'GarageYrBlt', 'GarageFinish', 'GarageQual', 'GarageCond']\n"
     ]
    }
   ],
   "source": [
    "garage_cols = [i for i in df.columns if i.startswith('Gar') and df[i].isnull().sum()>0]\n",
    "print(garage_cols)"
   ]
  },
  {
   "cell_type": "code",
   "execution_count": 42,
   "id": "54e76ffd",
   "metadata": {},
   "outputs": [
    {
     "data": {
      "text/plain": [
       "LotFrontage    259\n",
       "MasVnrType       8\n",
       "MasVnrArea       8\n",
       "Electrical       1\n",
       "FireplaceQu    690\n",
       "GarageYrBlt     81\n",
       "dtype: int64"
      ]
     },
     "execution_count": 42,
     "metadata": {},
     "output_type": "execute_result"
    }
   ],
   "source": [
    "gar_cols = ['GarageType', 'GarageFinish', 'GarageQual', 'GarageCond']\n",
    "for i in gar_cols:\n",
    "    df[i].fillna('No_Garage',inplace=True)\n",
    "\n",
    "nv = df.isnull().sum()\n",
    "nv[nv>0]"
   ]
  },
  {
   "cell_type": "code",
   "execution_count": 45,
   "id": "8bfbb16f",
   "metadata": {},
   "outputs": [
    {
     "data": {
      "text/plain": [
       "0.0      861\n",
       "108.0      8\n",
       "72.0       8\n",
       "180.0      8\n",
       "16.0       7\n",
       "        ... \n",
       "31.0       1\n",
       "366.0      1\n",
       "528.0      1\n",
       "894.0      1\n",
       "415.0      1\n",
       "Name: MasVnrArea, Length: 327, dtype: int64"
      ]
     },
     "execution_count": 45,
     "metadata": {},
     "output_type": "execute_result"
    }
   ],
   "source": [
    "df['MasVnrArea'].value_counts()"
   ]
  },
  {
   "cell_type": "code",
   "execution_count": 46,
   "id": "debc9832",
   "metadata": {},
   "outputs": [
    {
     "data": {
      "text/plain": [
       "60.0     143\n",
       "70.0      70\n",
       "80.0      69\n",
       "50.0      57\n",
       "75.0      53\n",
       "        ... \n",
       "112.0      1\n",
       "138.0      1\n",
       "149.0      1\n",
       "38.0       1\n",
       "111.0      1\n",
       "Name: LotFrontage, Length: 110, dtype: int64"
      ]
     },
     "execution_count": 46,
     "metadata": {},
     "output_type": "execute_result"
    }
   ],
   "source": [
    "df['LotFrontage'].value_counts()"
   ]
  },
  {
   "cell_type": "code",
   "execution_count": 47,
   "id": "055a5376",
   "metadata": {},
   "outputs": [
    {
     "data": {
      "text/plain": [
       "MasVnrType       8\n",
       "Electrical       1\n",
       "FireplaceQu    690\n",
       "GarageYrBlt     81\n",
       "dtype: int64"
      ]
     },
     "execution_count": 47,
     "metadata": {},
     "output_type": "execute_result"
    }
   ],
   "source": [
    "for i in ['LotFrontage','MasVnrArea']:\n",
    "    df[i].fillna(df[i].mean(),inplace=True)\n",
    "    \n",
    "nv = df.isnull().sum()\n",
    "nv[nv>0]"
   ]
  },
  {
   "cell_type": "code",
   "execution_count": 50,
   "id": "a4e5da2f",
   "metadata": {},
   "outputs": [
    {
     "data": {
      "text/plain": [
       "Gd    380\n",
       "TA    313\n",
       "Fa     33\n",
       "Ex     24\n",
       "Po     20\n",
       "Name: FireplaceQu, dtype: int64"
      ]
     },
     "execution_count": 50,
     "metadata": {},
     "output_type": "execute_result"
    }
   ],
   "source": [
    "df['FireplaceQu'].value_counts()"
   ]
  },
  {
   "cell_type": "code",
   "execution_count": 56,
   "id": "cdacec4d",
   "metadata": {},
   "outputs": [
    {
     "name": "stdout",
     "output_type": "stream",
     "text": [
      "Gd\n",
      "SBrkr\n",
      "Gd\n"
     ]
    }
   ],
   "source": [
    "# df['FireplaceQu'].mode().values\n",
    "print(df['FireplaceQu'].mode().max())\n",
    "print(df['Electrical'].mode().max())\n",
    "print(df['FireplaceQu'].mode().max())"
   ]
  },
  {
   "cell_type": "code",
   "execution_count": 57,
   "id": "3f2c347a",
   "metadata": {},
   "outputs": [],
   "source": [
    "for i in ['MasVnrType', 'Electrical', 'FireplaceQu']:\n",
    "    x = df[i].mode().max()\n",
    "    df[i].fillna(x,inplace=True)"
   ]
  },
  {
   "cell_type": "code",
   "execution_count": 58,
   "id": "3b82764d",
   "metadata": {},
   "outputs": [
    {
     "data": {
      "text/plain": [
       "GarageYrBlt    81\n",
       "dtype: int64"
      ]
     },
     "execution_count": 58,
     "metadata": {},
     "output_type": "execute_result"
    }
   ],
   "source": [
    "nv = df.isnull().sum()\n",
    "nv[nv>0]"
   ]
  },
  {
   "cell_type": "code",
   "execution_count": 59,
   "id": "2d4ba915",
   "metadata": {},
   "outputs": [
    {
     "data": {
      "text/plain": [
       "2005.0    65\n",
       "2006.0    59\n",
       "2004.0    53\n",
       "2003.0    50\n",
       "2007.0    49\n",
       "          ..\n",
       "1906.0     1\n",
       "1908.0     1\n",
       "1933.0     1\n",
       "1900.0     1\n",
       "1927.0     1\n",
       "Name: GarageYrBlt, Length: 97, dtype: int64"
      ]
     },
     "execution_count": 59,
     "metadata": {},
     "output_type": "execute_result"
    }
   ],
   "source": [
    "df['GarageYrBlt'].value_counts()"
   ]
  },
  {
   "cell_type": "code",
   "execution_count": 60,
   "id": "67174387",
   "metadata": {},
   "outputs": [],
   "source": [
    "df['GarageYrBlt'].fillna(2005.0,inplace=True)"
   ]
  },
  {
   "cell_type": "code",
   "execution_count": 61,
   "id": "59cf20e1",
   "metadata": {},
   "outputs": [
    {
     "data": {
      "text/plain": [
       "Series([], dtype: int64)"
      ]
     },
     "execution_count": 61,
     "metadata": {},
     "output_type": "execute_result"
    }
   ],
   "source": [
    "nv = df.isnull().sum()\n",
    "nv[nv>0]"
   ]
  },
  {
   "cell_type": "markdown",
   "id": "e21bee41",
   "metadata": {},
   "source": [
    "### Correlation"
   ]
  },
  {
   "cell_type": "code",
   "execution_count": 63,
   "id": "cf154586",
   "metadata": {},
   "outputs": [],
   "source": [
    "import seaborn as sns"
   ]
  },
  {
   "cell_type": "code",
   "execution_count": 66,
   "id": "c162197c",
   "metadata": {},
   "outputs": [
    {
     "data": {
      "image/png": "[encoded data removed]",
      "text/plain": [
       "<Figure size 1296x1296 with 2 Axes>"
      ]
     },
     "metadata": {
      "needs_background": "light"
     },
     "output_type": "display_data"
    }
   ],
   "source": [
    "corr = df.corr()\n",
    "corr = corr[abs(corr)>0.7]\n",
    "plt.figure(figsize=(18,18))\n",
    "sns.heatmap(corr,annot=True,cmap='RdBu')\n",
    "plt.show()"
   ]
  },
  {
   "cell_type": "code",
   "execution_count": 67,
   "id": "f98cd661",
   "metadata": {},
   "outputs": [
    {
     "name": "stdout",
     "output_type": "stream",
     "text": [
      "['1stFlrSF', 'SalePrice', 'TotRmsAbvGrd', 'GarageArea', 'GarageYrBlt']\n"
     ]
    }
   ],
   "source": [
    "def high_corr_feat(corr,thresh):\n",
    "    corr = df.corr()\n",
    "    res = []\n",
    "    for i in range(len(corr.columns)): # i = 0,1,2..,29\n",
    "        for j in range(i):             # i=0,j=0,  i=1,j=0\n",
    "            if corr.iloc[i,j] >= thresh:\n",
    "                res.append(corr.columns[i])\n",
    "    res = list(set(res))\n",
    "    return res\n",
    "    \n",
    "feat_to_drop = high_corr_feat(corr,0.7)\n",
    "print(feat_to_drop)"
   ]
  },
  {
   "cell_type": "markdown",
   "id": "553d91f8",
   "metadata": {},
   "source": [
    "### Outlier Treatment"
   ]
  },
  {
   "cell_type": "code",
   "execution_count": 69,
   "id": "484ef19d",
   "metadata": {},
   "outputs": [
    {
     "data": {
      "text/html": [
       "<div>\n",
       "<style scoped>\n",
       "    .dataframe tbody tr th:only-of-type {\n",
       "        vertical-align: middle;\n",
       "    }\n",
       "\n",
       "    .dataframe tbody tr th {\n",
       "        vertical-align: top;\n",
       "    }\n",
       "\n",
       "    .dataframe thead th {\n",
       "        text-align: right;\n",
       "    }\n",
       "</style>\n",
       "<table border=\"1\" class=\"dataframe\">\n",
       "  <thead>\n",
       "    <tr style=\"text-align: right;\">\n",
       "      <th></th>\n",
       "      <th>count</th>\n",
       "      <th>mean</th>\n",
       "      <th>std</th>\n",
       "      <th>min</th>\n",
       "      <th>1%</th>\n",
       "      <th>2%</th>\n",
       "      <th>3%</th>\n",
       "      <th>4%</th>\n",
       "      <th>5%</th>\n",
       "      <th>50%</th>\n",
       "      <th>max</th>\n",
       "    </tr>\n",
       "  </thead>\n",
       "  <tbody>\n",
       "    <tr>\n",
       "      <th>MSSubClass</th>\n",
       "      <td>1460.0</td>\n",
       "      <td>56.897260</td>\n",
       "      <td>42.300571</td>\n",
       "      <td>20.0</td>\n",
       "      <td>20.00</td>\n",
       "      <td>20.00</td>\n",
       "      <td>20.00</td>\n",
       "      <td>20.00</td>\n",
       "      <td>20.00</td>\n",
       "      <td>50.000000</td>\n",
       "      <td>190.0</td>\n",
       "    </tr>\n",
       "    <tr>\n",
       "      <th>LotFrontage</th>\n",
       "      <td>1460.0</td>\n",
       "      <td>70.049958</td>\n",
       "      <td>22.024023</td>\n",
       "      <td>21.0</td>\n",
       "      <td>21.00</td>\n",
       "      <td>24.00</td>\n",
       "      <td>30.00</td>\n",
       "      <td>34.00</td>\n",
       "      <td>35.95</td>\n",
       "      <td>70.049958</td>\n",
       "      <td>313.0</td>\n",
       "    </tr>\n",
       "    <tr>\n",
       "      <th>LotArea</th>\n",
       "      <td>1460.0</td>\n",
       "      <td>10516.828082</td>\n",
       "      <td>9981.264932</td>\n",
       "      <td>1300.0</td>\n",
       "      <td>1680.00</td>\n",
       "      <td>2124.74</td>\n",
       "      <td>2522.00</td>\n",
       "      <td>3095.04</td>\n",
       "      <td>3311.70</td>\n",
       "      <td>9478.500000</td>\n",
       "      <td>215245.0</td>\n",
       "    </tr>\n",
       "    <tr>\n",
       "      <th>OverallQual</th>\n",
       "      <td>1460.0</td>\n",
       "      <td>6.099315</td>\n",
       "      <td>1.382997</td>\n",
       "      <td>1.0</td>\n",
       "      <td>3.00</td>\n",
       "      <td>4.00</td>\n",
       "      <td>4.00</td>\n",
       "      <td>4.00</td>\n",
       "      <td>4.00</td>\n",
       "      <td>6.000000</td>\n",
       "      <td>10.0</td>\n",
       "    </tr>\n",
       "    <tr>\n",
       "      <th>OverallCond</th>\n",
       "      <td>1460.0</td>\n",
       "      <td>5.575342</td>\n",
       "      <td>1.112799</td>\n",
       "      <td>1.0</td>\n",
       "      <td>3.00</td>\n",
       "      <td>3.00</td>\n",
       "      <td>4.00</td>\n",
       "      <td>4.00</td>\n",
       "      <td>4.00</td>\n",
       "      <td>5.000000</td>\n",
       "      <td>9.0</td>\n",
       "    </tr>\n",
       "    <tr>\n",
       "      <th>YearBuilt</th>\n",
       "      <td>1460.0</td>\n",
       "      <td>1971.267808</td>\n",
       "      <td>30.202904</td>\n",
       "      <td>1872.0</td>\n",
       "      <td>1899.18</td>\n",
       "      <td>1908.36</td>\n",
       "      <td>1910.00</td>\n",
       "      <td>1914.36</td>\n",
       "      <td>1916.00</td>\n",
       "      <td>1973.000000</td>\n",
       "      <td>2010.0</td>\n",
       "    </tr>\n",
       "    <tr>\n",
       "      <th>YearRemodAdd</th>\n",
       "      <td>1460.0</td>\n",
       "      <td>1984.865753</td>\n",
       "      <td>20.645407</td>\n",
       "      <td>1950.0</td>\n",
       "      <td>1950.00</td>\n",
       "      <td>1950.00</td>\n",
       "      <td>1950.00</td>\n",
       "      <td>1950.00</td>\n",
       "      <td>1950.00</td>\n",
       "      <td>1994.000000</td>\n",
       "      <td>2010.0</td>\n",
       "    </tr>\n",
       "    <tr>\n",
       "      <th>MasVnrArea</th>\n",
       "      <td>1460.0</td>\n",
       "      <td>103.685262</td>\n",
       "      <td>180.569112</td>\n",
       "      <td>0.0</td>\n",
       "      <td>0.00</td>\n",
       "      <td>0.00</td>\n",
       "      <td>0.00</td>\n",
       "      <td>0.00</td>\n",
       "      <td>0.00</td>\n",
       "      <td>0.000000</td>\n",
       "      <td>1600.0</td>\n",
       "    </tr>\n",
       "    <tr>\n",
       "      <th>BsmtFinSF1</th>\n",
       "      <td>1460.0</td>\n",
       "      <td>443.639726</td>\n",
       "      <td>456.098091</td>\n",
       "      <td>0.0</td>\n",
       "      <td>0.00</td>\n",
       "      <td>0.00</td>\n",
       "      <td>0.00</td>\n",
       "      <td>0.00</td>\n",
       "      <td>0.00</td>\n",
       "      <td>383.500000</td>\n",
       "      <td>5644.0</td>\n",
       "    </tr>\n",
       "    <tr>\n",
       "      <th>BsmtFinSF2</th>\n",
       "      <td>1460.0</td>\n",
       "      <td>46.549315</td>\n",
       "      <td>161.319273</td>\n",
       "      <td>0.0</td>\n",
       "      <td>0.00</td>\n",
       "      <td>0.00</td>\n",
       "      <td>0.00</td>\n",
       "      <td>0.00</td>\n",
       "      <td>0.00</td>\n",
       "      <td>0.000000</td>\n",
       "      <td>1474.0</td>\n",
       "    </tr>\n",
       "    <tr>\n",
       "      <th>BsmtUnfSF</th>\n",
       "      <td>1460.0</td>\n",
       "      <td>567.240411</td>\n",
       "      <td>441.866955</td>\n",
       "      <td>0.0</td>\n",
       "      <td>0.00</td>\n",
       "      <td>0.00</td>\n",
       "      <td>0.00</td>\n",
       "      <td>0.00</td>\n",
       "      <td>0.00</td>\n",
       "      <td>477.500000</td>\n",
       "      <td>2336.0</td>\n",
       "    </tr>\n",
       "    <tr>\n",
       "      <th>TotalBsmtSF</th>\n",
       "      <td>1460.0</td>\n",
       "      <td>1057.429452</td>\n",
       "      <td>438.705324</td>\n",
       "      <td>0.0</td>\n",
       "      <td>0.00</td>\n",
       "      <td>0.00</td>\n",
       "      <td>312.33</td>\n",
       "      <td>446.48</td>\n",
       "      <td>519.30</td>\n",
       "      <td>991.500000</td>\n",
       "      <td>6110.0</td>\n",
       "    </tr>\n",
       "    <tr>\n",
       "      <th>1stFlrSF</th>\n",
       "      <td>1460.0</td>\n",
       "      <td>1162.626712</td>\n",
       "      <td>386.587738</td>\n",
       "      <td>334.0</td>\n",
       "      <td>520.00</td>\n",
       "      <td>583.70</td>\n",
       "      <td>625.00</td>\n",
       "      <td>660.36</td>\n",
       "      <td>672.95</td>\n",
       "      <td>1087.000000</td>\n",
       "      <td>4692.0</td>\n",
       "    </tr>\n",
       "    <tr>\n",
       "      <th>2ndFlrSF</th>\n",
       "      <td>1460.0</td>\n",
       "      <td>346.992466</td>\n",
       "      <td>436.528436</td>\n",
       "      <td>0.0</td>\n",
       "      <td>0.00</td>\n",
       "      <td>0.00</td>\n",
       "      <td>0.00</td>\n",
       "      <td>0.00</td>\n",
       "      <td>0.00</td>\n",
       "      <td>0.000000</td>\n",
       "      <td>2065.0</td>\n",
       "    </tr>\n",
       "    <tr>\n",
       "      <th>LowQualFinSF</th>\n",
       "      <td>1460.0</td>\n",
       "      <td>5.844521</td>\n",
       "      <td>48.623081</td>\n",
       "      <td>0.0</td>\n",
       "      <td>0.00</td>\n",
       "      <td>0.00</td>\n",
       "      <td>0.00</td>\n",
       "      <td>0.00</td>\n",
       "      <td>0.00</td>\n",
       "      <td>0.000000</td>\n",
       "      <td>572.0</td>\n",
       "    </tr>\n",
       "    <tr>\n",
       "      <th>GrLivArea</th>\n",
       "      <td>1460.0</td>\n",
       "      <td>1515.463699</td>\n",
       "      <td>525.480383</td>\n",
       "      <td>334.0</td>\n",
       "      <td>692.18</td>\n",
       "      <td>768.00</td>\n",
       "      <td>796.00</td>\n",
       "      <td>828.80</td>\n",
       "      <td>848.00</td>\n",
       "      <td>1464.000000</td>\n",
       "      <td>5642.0</td>\n",
       "    </tr>\n",
       "    <tr>\n",
       "      <th>BsmtFullBath</th>\n",
       "      <td>1460.0</td>\n",
       "      <td>0.425342</td>\n",
       "      <td>0.518911</td>\n",
       "      <td>0.0</td>\n",
       "      <td>0.00</td>\n",
       "      <td>0.00</td>\n",
       "      <td>0.00</td>\n",
       "      <td>0.00</td>\n",
       "      <td>0.00</td>\n",
       "      <td>0.000000</td>\n",
       "      <td>3.0</td>\n",
       "    </tr>\n",
       "    <tr>\n",
       "      <th>BsmtHalfBath</th>\n",
       "      <td>1460.0</td>\n",
       "      <td>0.057534</td>\n",
       "      <td>0.238753</td>\n",
       "      <td>0.0</td>\n",
       "      <td>0.00</td>\n",
       "      <td>0.00</td>\n",
       "      <td>0.00</td>\n",
       "      <td>0.00</td>\n",
       "      <td>0.00</td>\n",
       "      <td>0.000000</td>\n",
       "      <td>2.0</td>\n",
       "    </tr>\n",
       "    <tr>\n",
       "      <th>FullBath</th>\n",
       "      <td>1460.0</td>\n",
       "      <td>1.565068</td>\n",
       "      <td>0.550916</td>\n",
       "      <td>0.0</td>\n",
       "      <td>1.00</td>\n",
       "      <td>1.00</td>\n",
       "      <td>1.00</td>\n",
       "      <td>1.00</td>\n",
       "      <td>1.00</td>\n",
       "      <td>2.000000</td>\n",
       "      <td>3.0</td>\n",
       "    </tr>\n",
       "    <tr>\n",
       "      <th>HalfBath</th>\n",
       "      <td>1460.0</td>\n",
       "      <td>0.382877</td>\n",
       "      <td>0.502885</td>\n",
       "      <td>0.0</td>\n",
       "      <td>0.00</td>\n",
       "      <td>0.00</td>\n",
       "      <td>0.00</td>\n",
       "      <td>0.00</td>\n",
       "      <td>0.00</td>\n",
       "      <td>0.000000</td>\n",
       "      <td>2.0</td>\n",
       "    </tr>\n",
       "    <tr>\n",
       "      <th>BedroomAbvGr</th>\n",
       "      <td>1460.0</td>\n",
       "      <td>2.866438</td>\n",
       "      <td>0.815778</td>\n",
       "      <td>0.0</td>\n",
       "      <td>1.00</td>\n",
       "      <td>1.00</td>\n",
       "      <td>1.00</td>\n",
       "      <td>2.00</td>\n",
       "      <td>2.00</td>\n",
       "      <td>3.000000</td>\n",
       "      <td>8.0</td>\n",
       "    </tr>\n",
       "    <tr>\n",
       "      <th>KitchenAbvGr</th>\n",
       "      <td>1460.0</td>\n",
       "      <td>1.046575</td>\n",
       "      <td>0.220338</td>\n",
       "      <td>0.0</td>\n",
       "      <td>1.00</td>\n",
       "      <td>1.00</td>\n",
       "      <td>1.00</td>\n",
       "      <td>1.00</td>\n",
       "      <td>1.00</td>\n",
       "      <td>1.000000</td>\n",
       "      <td>3.0</td>\n",
       "    </tr>\n",
       "    <tr>\n",
       "      <th>TotRmsAbvGrd</th>\n",
       "      <td>1460.0</td>\n",
       "      <td>6.517808</td>\n",
       "      <td>1.625393</td>\n",
       "      <td>2.0</td>\n",
       "      <td>3.00</td>\n",
       "      <td>4.00</td>\n",
       "      <td>4.00</td>\n",
       "      <td>4.00</td>\n",
       "      <td>4.00</td>\n",
       "      <td>6.000000</td>\n",
       "      <td>14.0</td>\n",
       "    </tr>\n",
       "    <tr>\n",
       "      <th>Fireplaces</th>\n",
       "      <td>1460.0</td>\n",
       "      <td>0.613014</td>\n",
       "      <td>0.644666</td>\n",
       "      <td>0.0</td>\n",
       "      <td>0.00</td>\n",
       "      <td>0.00</td>\n",
       "      <td>0.00</td>\n",
       "      <td>0.00</td>\n",
       "      <td>0.00</td>\n",
       "      <td>1.000000</td>\n",
       "      <td>3.0</td>\n",
       "    </tr>\n",
       "    <tr>\n",
       "      <th>GarageYrBlt</th>\n",
       "      <td>1460.0</td>\n",
       "      <td>1979.976027</td>\n",
       "      <td>24.749688</td>\n",
       "      <td>1900.0</td>\n",
       "      <td>1917.18</td>\n",
       "      <td>1920.00</td>\n",
       "      <td>1924.00</td>\n",
       "      <td>1926.00</td>\n",
       "      <td>1930.00</td>\n",
       "      <td>1984.500000</td>\n",
       "      <td>2010.0</td>\n",
       "    </tr>\n",
       "    <tr>\n",
       "      <th>GarageCars</th>\n",
       "      <td>1460.0</td>\n",
       "      <td>1.767123</td>\n",
       "      <td>0.747315</td>\n",
       "      <td>0.0</td>\n",
       "      <td>0.00</td>\n",
       "      <td>0.00</td>\n",
       "      <td>0.00</td>\n",
       "      <td>0.00</td>\n",
       "      <td>0.00</td>\n",
       "      <td>2.000000</td>\n",
       "      <td>4.0</td>\n",
       "    </tr>\n",
       "    <tr>\n",
       "      <th>GarageArea</th>\n",
       "      <td>1460.0</td>\n",
       "      <td>472.980137</td>\n",
       "      <td>213.804841</td>\n",
       "      <td>0.0</td>\n",
       "      <td>0.00</td>\n",
       "      <td>0.00</td>\n",
       "      <td>0.00</td>\n",
       "      <td>0.00</td>\n",
       "      <td>0.00</td>\n",
       "      <td>480.000000</td>\n",
       "      <td>1418.0</td>\n",
       "    </tr>\n",
       "    <tr>\n",
       "      <th>WoodDeckSF</th>\n",
       "      <td>1460.0</td>\n",
       "      <td>94.244521</td>\n",
       "      <td>125.338794</td>\n",
       "      <td>0.0</td>\n",
       "      <td>0.00</td>\n",
       "      <td>0.00</td>\n",
       "      <td>0.00</td>\n",
       "      <td>0.00</td>\n",
       "      <td>0.00</td>\n",
       "      <td>0.000000</td>\n",
       "      <td>857.0</td>\n",
       "    </tr>\n",
       "    <tr>\n",
       "      <th>OpenPorchSF</th>\n",
       "      <td>1460.0</td>\n",
       "      <td>46.660274</td>\n",
       "      <td>66.256028</td>\n",
       "      <td>0.0</td>\n",
       "      <td>0.00</td>\n",
       "      <td>0.00</td>\n",
       "      <td>0.00</td>\n",
       "      <td>0.00</td>\n",
       "      <td>0.00</td>\n",
       "      <td>25.000000</td>\n",
       "      <td>547.0</td>\n",
       "    </tr>\n",
       "    <tr>\n",
       "      <th>EnclosedPorch</th>\n",
       "      <td>1460.0</td>\n",
       "      <td>21.954110</td>\n",
       "      <td>61.119149</td>\n",
       "      <td>0.0</td>\n",
       "      <td>0.00</td>\n",
       "      <td>0.00</td>\n",
       "      <td>0.00</td>\n",
       "      <td>0.00</td>\n",
       "      <td>0.00</td>\n",
       "      <td>0.000000</td>\n",
       "      <td>552.0</td>\n",
       "    </tr>\n",
       "    <tr>\n",
       "      <th>3SsnPorch</th>\n",
       "      <td>1460.0</td>\n",
       "      <td>3.409589</td>\n",
       "      <td>29.317331</td>\n",
       "      <td>0.0</td>\n",
       "      <td>0.00</td>\n",
       "      <td>0.00</td>\n",
       "      <td>0.00</td>\n",
       "      <td>0.00</td>\n",
       "      <td>0.00</td>\n",
       "      <td>0.000000</td>\n",
       "      <td>508.0</td>\n",
       "    </tr>\n",
       "    <tr>\n",
       "      <th>ScreenPorch</th>\n",
       "      <td>1460.0</td>\n",
       "      <td>15.060959</td>\n",
       "      <td>55.757415</td>\n",
       "      <td>0.0</td>\n",
       "      <td>0.00</td>\n",
       "      <td>0.00</td>\n",
       "      <td>0.00</td>\n",
       "      <td>0.00</td>\n",
       "      <td>0.00</td>\n",
       "      <td>0.000000</td>\n",
       "      <td>480.0</td>\n",
       "    </tr>\n",
       "    <tr>\n",
       "      <th>PoolArea</th>\n",
       "      <td>1460.0</td>\n",
       "      <td>2.758904</td>\n",
       "      <td>40.177307</td>\n",
       "      <td>0.0</td>\n",
       "      <td>0.00</td>\n",
       "      <td>0.00</td>\n",
       "      <td>0.00</td>\n",
       "      <td>0.00</td>\n",
       "      <td>0.00</td>\n",
       "      <td>0.000000</td>\n",
       "      <td>738.0</td>\n",
       "    </tr>\n",
       "    <tr>\n",
       "      <th>MiscVal</th>\n",
       "      <td>1460.0</td>\n",
       "      <td>43.489041</td>\n",
       "      <td>496.123024</td>\n",
       "      <td>0.0</td>\n",
       "      <td>0.00</td>\n",
       "      <td>0.00</td>\n",
       "      <td>0.00</td>\n",
       "      <td>0.00</td>\n",
       "      <td>0.00</td>\n",
       "      <td>0.000000</td>\n",
       "      <td>15500.0</td>\n",
       "    </tr>\n",
       "    <tr>\n",
       "      <th>MoSold</th>\n",
       "      <td>1460.0</td>\n",
       "      <td>6.321918</td>\n",
       "      <td>2.703626</td>\n",
       "      <td>1.0</td>\n",
       "      <td>1.00</td>\n",
       "      <td>1.00</td>\n",
       "      <td>1.00</td>\n",
       "      <td>2.00</td>\n",
       "      <td>2.00</td>\n",
       "      <td>6.000000</td>\n",
       "      <td>12.0</td>\n",
       "    </tr>\n",
       "    <tr>\n",
       "      <th>YrSold</th>\n",
       "      <td>1460.0</td>\n",
       "      <td>2007.815753</td>\n",
       "      <td>1.328095</td>\n",
       "      <td>2006.0</td>\n",
       "      <td>2006.00</td>\n",
       "      <td>2006.00</td>\n",
       "      <td>2006.00</td>\n",
       "      <td>2006.00</td>\n",
       "      <td>2006.00</td>\n",
       "      <td>2008.000000</td>\n",
       "      <td>2010.0</td>\n",
       "    </tr>\n",
       "    <tr>\n",
       "      <th>SalePrice</th>\n",
       "      <td>1460.0</td>\n",
       "      <td>180921.195890</td>\n",
       "      <td>79442.502883</td>\n",
       "      <td>34900.0</td>\n",
       "      <td>61815.97</td>\n",
       "      <td>79000.00</td>\n",
       "      <td>82000.00</td>\n",
       "      <td>85000.00</td>\n",
       "      <td>88000.00</td>\n",
       "      <td>163000.000000</td>\n",
       "      <td>755000.0</td>\n",
       "    </tr>\n",
       "  </tbody>\n",
       "</table>\n",
       "</div>"
      ],
      "text/plain": [
       "                count           mean           std      min        1%  \\\n",
       "MSSubClass     1460.0      56.897260     42.300571     20.0     20.00   \n",
       "LotFrontage    1460.0      70.049958     22.024023     21.0     21.00   \n",
       "LotArea        1460.0   10516.828082   9981.264932   1300.0   1680.00   \n",
       "OverallQual    1460.0       6.099315      1.382997      1.0      3.00   \n",
       "OverallCond    1460.0       5.575342      1.112799      1.0      3.00   \n",
       "YearBuilt      1460.0    1971.267808     30.202904   1872.0   1899.18   \n",
       "YearRemodAdd   1460.0    1984.865753     20.645407   1950.0   1950.00   \n",
       "MasVnrArea     1460.0     103.685262    180.569112      0.0      0.00   \n",
       "BsmtFinSF1     1460.0     443.639726    456.098091      0.0      0.00   \n",
       "BsmtFinSF2     1460.0      46.549315    161.319273      0.0      0.00   \n",
       "BsmtUnfSF      1460.0     567.240411    441.866955      0.0      0.00   \n",
       "TotalBsmtSF    1460.0    1057.429452    438.705324      0.0      0.00   \n",
       "1stFlrSF       1460.0    1162.626712    386.587738    334.0    520.00   \n",
       "2ndFlrSF       1460.0     346.992466    436.528436      0.0      0.00   \n",
       "LowQualFinSF   1460.0       5.844521     48.623081      0.0      0.00   \n",
       "GrLivArea      1460.0    1515.463699    525.480383    334.0    692.18   \n",
       "BsmtFullBath   1460.0       0.425342      0.518911      0.0      0.00   \n",
       "BsmtHalfBath   1460.0       0.057534      0.238753      0.0      0.00   \n",
       "FullBath       1460.0       1.565068      0.550916      0.0      1.00   \n",
       "HalfBath       1460.0       0.382877      0.502885      0.0      0.00   \n",
       "BedroomAbvGr   1460.0       2.866438      0.815778      0.0      1.00   \n",
       "KitchenAbvGr   1460.0       1.046575      0.220338      0.0      1.00   \n",
       "TotRmsAbvGrd   1460.0       6.517808      1.625393      2.0      3.00   \n",
       "Fireplaces     1460.0       0.613014      0.644666      0.0      0.00   \n",
       "GarageYrBlt    1460.0    1979.976027     24.749688   1900.0   1917.18   \n",
       "GarageCars     1460.0       1.767123      0.747315      0.0      0.00   \n",
       "GarageArea     1460.0     472.980137    213.804841      0.0      0.00   \n",
       "WoodDeckSF     1460.0      94.244521    125.338794      0.0      0.00   \n",
       "OpenPorchSF    1460.0      46.660274     66.256028      0.0      0.00   \n",
       "EnclosedPorch  1460.0      21.954110     61.119149      0.0      0.00   \n",
       "3SsnPorch      1460.0       3.409589     29.317331      0.0      0.00   \n",
       "ScreenPorch    1460.0      15.060959     55.757415      0.0      0.00   \n",
       "PoolArea       1460.0       2.758904     40.177307      0.0      0.00   \n",
       "MiscVal        1460.0      43.489041    496.123024      0.0      0.00   \n",
       "MoSold         1460.0       6.321918      2.703626      1.0      1.00   \n",
       "YrSold         1460.0    2007.815753      1.328095   2006.0   2006.00   \n",
       "SalePrice      1460.0  180921.195890  79442.502883  34900.0  61815.97   \n",
       "\n",
       "                     2%        3%        4%        5%            50%       max  \n",
       "MSSubClass        20.00     20.00     20.00     20.00      50.000000     190.0  \n",
       "LotFrontage       24.00     30.00     34.00     35.95      70.049958     313.0  \n",
       "LotArea         2124.74   2522.00   3095.04   3311.70    9478.500000  215245.0  \n",
       "OverallQual        4.00      4.00      4.00      4.00       6.000000      10.0  \n",
       "OverallCond        3.00      4.00      4.00      4.00       5.000000       9.0  \n",
       "YearBuilt       1908.36   1910.00   1914.36   1916.00    1973.000000    2010.0  \n",
       "YearRemodAdd    1950.00   1950.00   1950.00   1950.00    1994.000000    2010.0  \n",
       "MasVnrArea         0.00      0.00      0.00      0.00       0.000000    1600.0  \n",
       "BsmtFinSF1         0.00      0.00      0.00      0.00     383.500000    5644.0  \n",
       "BsmtFinSF2         0.00      0.00      0.00      0.00       0.000000    1474.0  \n",
       "BsmtUnfSF          0.00      0.00      0.00      0.00     477.500000    2336.0  \n",
       "TotalBsmtSF        0.00    312.33    446.48    519.30     991.500000    6110.0  \n",
       "1stFlrSF         583.70    625.00    660.36    672.95    1087.000000    4692.0  \n",
       "2ndFlrSF           0.00      0.00      0.00      0.00       0.000000    2065.0  \n",
       "LowQualFinSF       0.00      0.00      0.00      0.00       0.000000     572.0  \n",
       "GrLivArea        768.00    796.00    828.80    848.00    1464.000000    5642.0  \n",
       "BsmtFullBath       0.00      0.00      0.00      0.00       0.000000       3.0  \n",
       "BsmtHalfBath       0.00      0.00      0.00      0.00       0.000000       2.0  \n",
       "FullBath           1.00      1.00      1.00      1.00       2.000000       3.0  \n",
       "HalfBath           0.00      0.00      0.00      0.00       0.000000       2.0  \n",
       "BedroomAbvGr       1.00      1.00      2.00      2.00       3.000000       8.0  \n",
       "KitchenAbvGr       1.00      1.00      1.00      1.00       1.000000       3.0  \n",
       "TotRmsAbvGrd       4.00      4.00      4.00      4.00       6.000000      14.0  \n",
       "Fireplaces         0.00      0.00      0.00      0.00       1.000000       3.0  \n",
       "GarageYrBlt     1920.00   1924.00   1926.00   1930.00    1984.500000    2010.0  \n",
       "GarageCars         0.00      0.00      0.00      0.00       2.000000       4.0  \n",
       "GarageArea         0.00      0.00      0.00      0.00     480.000000    1418.0  \n",
       "WoodDeckSF         0.00      0.00      0.00      0.00       0.000000     857.0  \n",
       "OpenPorchSF        0.00      0.00      0.00      0.00      25.000000     547.0  \n",
       "EnclosedPorch      0.00      0.00      0.00      0.00       0.000000     552.0  \n",
       "3SsnPorch          0.00      0.00      0.00      0.00       0.000000     508.0  \n",
       "ScreenPorch        0.00      0.00      0.00      0.00       0.000000     480.0  \n",
       "PoolArea           0.00      0.00      0.00      0.00       0.000000     738.0  \n",
       "MiscVal            0.00      0.00      0.00      0.00       0.000000   15500.0  \n",
       "MoSold             1.00      1.00      2.00      2.00       6.000000      12.0  \n",
       "YrSold          2006.00   2006.00   2006.00   2006.00    2008.000000    2010.0  \n",
       "SalePrice      79000.00  82000.00  85000.00  88000.00  163000.000000  755000.0  "
      ]
     },
     "execution_count": 69,
     "metadata": {},
     "output_type": "execute_result"
    }
   ],
   "source": [
    "# lower\n",
    "df.describe(percentiles=[0.01,0.02,0.03,0.04,0.05]).T"
   ]
  },
  {
   "cell_type": "code",
   "execution_count": 77,
   "id": "18033d11",
   "metadata": {},
   "outputs": [
    {
     "name": "stdout",
     "output_type": "stream",
     "text": [
      "['LotArea', 'OverallQual', 'OverallCond', '1stFlrSF', 'TotRmsAbvGrd', 'GrLivArea', 'SalePrice']\n"
     ]
    }
   ],
   "source": [
    "out_cols_01 = ['LotArea', 'OverallQual', 'OverallCond','1stFlrSF','TotRmsAbvGrd',\n",
    "                'GrLivArea','SalePrice']\n",
    "print(out_cols_01)"
   ]
  },
  {
   "cell_type": "code",
   "execution_count": 78,
   "id": "d768ae1f",
   "metadata": {},
   "outputs": [],
   "source": [
    "def out_treat_low(x):\n",
    "    x = x.clip(lower = x.quantile(0.01))\n",
    "    return x"
   ]
  },
  {
   "cell_type": "code",
   "execution_count": 80,
   "id": "cec8de15",
   "metadata": {},
   "outputs": [],
   "source": [
    "df[out_cols_01] = df[out_cols_01].apply(out_treat_low)"
   ]
  },
  {
   "cell_type": "code",
   "execution_count": 81,
   "id": "a673ccd5",
   "metadata": {},
   "outputs": [
    {
     "data": {
      "text/html": [
       "<div>\n",
       "<style scoped>\n",
       "    .dataframe tbody tr th:only-of-type {\n",
       "        vertical-align: middle;\n",
       "    }\n",
       "\n",
       "    .dataframe tbody tr th {\n",
       "        vertical-align: top;\n",
       "    }\n",
       "\n",
       "    .dataframe thead th {\n",
       "        text-align: right;\n",
       "    }\n",
       "</style>\n",
       "<table border=\"1\" class=\"dataframe\">\n",
       "  <thead>\n",
       "    <tr style=\"text-align: right;\">\n",
       "      <th></th>\n",
       "      <th>count</th>\n",
       "      <th>mean</th>\n",
       "      <th>std</th>\n",
       "      <th>min</th>\n",
       "      <th>50%</th>\n",
       "      <th>95%</th>\n",
       "      <th>96%</th>\n",
       "      <th>97%</th>\n",
       "      <th>98%</th>\n",
       "      <th>99%</th>\n",
       "      <th>max</th>\n",
       "    </tr>\n",
       "  </thead>\n",
       "  <tbody>\n",
       "    <tr>\n",
       "      <th>MSSubClass</th>\n",
       "      <td>1460.0</td>\n",
       "      <td>56.897260</td>\n",
       "      <td>42.300571</td>\n",
       "      <td>20.00</td>\n",
       "      <td>50.000000</td>\n",
       "      <td>160.00</td>\n",
       "      <td>160.00</td>\n",
       "      <td>160.00</td>\n",
       "      <td>188.20</td>\n",
       "      <td>190.00</td>\n",
       "      <td>190.0</td>\n",
       "    </tr>\n",
       "    <tr>\n",
       "      <th>LotFrontage</th>\n",
       "      <td>1460.0</td>\n",
       "      <td>70.049958</td>\n",
       "      <td>22.024023</td>\n",
       "      <td>21.00</td>\n",
       "      <td>70.049958</td>\n",
       "      <td>104.00</td>\n",
       "      <td>107.00</td>\n",
       "      <td>114.00</td>\n",
       "      <td>120.82</td>\n",
       "      <td>137.41</td>\n",
       "      <td>313.0</td>\n",
       "    </tr>\n",
       "    <tr>\n",
       "      <th>LotArea</th>\n",
       "      <td>1460.0</td>\n",
       "      <td>10517.721233</td>\n",
       "      <td>9980.463435</td>\n",
       "      <td>1680.00</td>\n",
       "      <td>9478.500000</td>\n",
       "      <td>17401.15</td>\n",
       "      <td>18857.60</td>\n",
       "      <td>21571.80</td>\n",
       "      <td>25251.62</td>\n",
       "      <td>37567.64</td>\n",
       "      <td>215245.0</td>\n",
       "    </tr>\n",
       "    <tr>\n",
       "      <th>OverallQual</th>\n",
       "      <td>1460.0</td>\n",
       "      <td>6.104110</td>\n",
       "      <td>1.369444</td>\n",
       "      <td>3.00</td>\n",
       "      <td>6.000000</td>\n",
       "      <td>8.00</td>\n",
       "      <td>9.00</td>\n",
       "      <td>9.00</td>\n",
       "      <td>9.00</td>\n",
       "      <td>10.00</td>\n",
       "      <td>10.0</td>\n",
       "    </tr>\n",
       "    <tr>\n",
       "      <th>OverallCond</th>\n",
       "      <td>1460.0</td>\n",
       "      <td>5.580137</td>\n",
       "      <td>1.098826</td>\n",
       "      <td>3.00</td>\n",
       "      <td>5.000000</td>\n",
       "      <td>8.00</td>\n",
       "      <td>8.00</td>\n",
       "      <td>8.00</td>\n",
       "      <td>8.00</td>\n",
       "      <td>9.00</td>\n",
       "      <td>9.0</td>\n",
       "    </tr>\n",
       "    <tr>\n",
       "      <th>YearBuilt</th>\n",
       "      <td>1460.0</td>\n",
       "      <td>1971.267808</td>\n",
       "      <td>30.202904</td>\n",
       "      <td>1872.00</td>\n",
       "      <td>1973.000000</td>\n",
       "      <td>2007.00</td>\n",
       "      <td>2007.00</td>\n",
       "      <td>2007.00</td>\n",
       "      <td>2008.00</td>\n",
       "      <td>2009.00</td>\n",
       "      <td>2010.0</td>\n",
       "    </tr>\n",
       "    <tr>\n",
       "      <th>YearRemodAdd</th>\n",
       "      <td>1460.0</td>\n",
       "      <td>1984.865753</td>\n",
       "      <td>20.645407</td>\n",
       "      <td>1950.00</td>\n",
       "      <td>1994.000000</td>\n",
       "      <td>2007.00</td>\n",
       "      <td>2008.00</td>\n",
       "      <td>2008.00</td>\n",
       "      <td>2008.00</td>\n",
       "      <td>2009.00</td>\n",
       "      <td>2010.0</td>\n",
       "    </tr>\n",
       "    <tr>\n",
       "      <th>MasVnrArea</th>\n",
       "      <td>1460.0</td>\n",
       "      <td>103.685262</td>\n",
       "      <td>180.569112</td>\n",
       "      <td>0.00</td>\n",
       "      <td>0.000000</td>\n",
       "      <td>456.00</td>\n",
       "      <td>487.40</td>\n",
       "      <td>573.69</td>\n",
       "      <td>650.82</td>\n",
       "      <td>791.28</td>\n",
       "      <td>1600.0</td>\n",
       "    </tr>\n",
       "    <tr>\n",
       "      <th>BsmtFinSF1</th>\n",
       "      <td>1460.0</td>\n",
       "      <td>443.639726</td>\n",
       "      <td>456.098091</td>\n",
       "      <td>0.00</td>\n",
       "      <td>383.500000</td>\n",
       "      <td>1274.00</td>\n",
       "      <td>1309.00</td>\n",
       "      <td>1375.99</td>\n",
       "      <td>1442.64</td>\n",
       "      <td>1572.41</td>\n",
       "      <td>5644.0</td>\n",
       "    </tr>\n",
       "    <tr>\n",
       "      <th>BsmtFinSF2</th>\n",
       "      <td>1460.0</td>\n",
       "      <td>46.549315</td>\n",
       "      <td>161.319273</td>\n",
       "      <td>0.00</td>\n",
       "      <td>0.000000</td>\n",
       "      <td>396.20</td>\n",
       "      <td>479.64</td>\n",
       "      <td>546.23</td>\n",
       "      <td>658.12</td>\n",
       "      <td>830.38</td>\n",
       "      <td>1474.0</td>\n",
       "    </tr>\n",
       "    <tr>\n",
       "      <th>BsmtUnfSF</th>\n",
       "      <td>1460.0</td>\n",
       "      <td>567.240411</td>\n",
       "      <td>441.866955</td>\n",
       "      <td>0.00</td>\n",
       "      <td>477.500000</td>\n",
       "      <td>1468.00</td>\n",
       "      <td>1523.32</td>\n",
       "      <td>1589.38</td>\n",
       "      <td>1678.20</td>\n",
       "      <td>1797.05</td>\n",
       "      <td>2336.0</td>\n",
       "    </tr>\n",
       "    <tr>\n",
       "      <th>TotalBsmtSF</th>\n",
       "      <td>1460.0</td>\n",
       "      <td>1057.429452</td>\n",
       "      <td>438.705324</td>\n",
       "      <td>0.00</td>\n",
       "      <td>991.500000</td>\n",
       "      <td>1753.00</td>\n",
       "      <td>1834.92</td>\n",
       "      <td>1905.46</td>\n",
       "      <td>2001.64</td>\n",
       "      <td>2155.05</td>\n",
       "      <td>6110.0</td>\n",
       "    </tr>\n",
       "    <tr>\n",
       "      <th>1stFlrSF</th>\n",
       "      <td>1460.0</td>\n",
       "      <td>1163.133562</td>\n",
       "      <td>385.676702</td>\n",
       "      <td>520.00</td>\n",
       "      <td>1087.000000</td>\n",
       "      <td>1831.25</td>\n",
       "      <td>1882.24</td>\n",
       "      <td>1981.61</td>\n",
       "      <td>2072.28</td>\n",
       "      <td>2219.46</td>\n",
       "      <td>4692.0</td>\n",
       "    </tr>\n",
       "    <tr>\n",
       "      <th>2ndFlrSF</th>\n",
       "      <td>1460.0</td>\n",
       "      <td>346.992466</td>\n",
       "      <td>436.528436</td>\n",
       "      <td>0.00</td>\n",
       "      <td>0.000000</td>\n",
       "      <td>1141.05</td>\n",
       "      <td>1183.92</td>\n",
       "      <td>1245.53</td>\n",
       "      <td>1318.56</td>\n",
       "      <td>1418.92</td>\n",
       "      <td>2065.0</td>\n",
       "    </tr>\n",
       "    <tr>\n",
       "      <th>LowQualFinSF</th>\n",
       "      <td>1460.0</td>\n",
       "      <td>5.844521</td>\n",
       "      <td>48.623081</td>\n",
       "      <td>0.00</td>\n",
       "      <td>0.000000</td>\n",
       "      <td>0.00</td>\n",
       "      <td>0.00</td>\n",
       "      <td>0.00</td>\n",
       "      <td>0.00</td>\n",
       "      <td>360.00</td>\n",
       "      <td>572.0</td>\n",
       "    </tr>\n",
       "    <tr>\n",
       "      <th>GrLivArea</th>\n",
       "      <td>1460.0</td>\n",
       "      <td>1516.542260</td>\n",
       "      <td>523.585992</td>\n",
       "      <td>692.18</td>\n",
       "      <td>1464.000000</td>\n",
       "      <td>2466.10</td>\n",
       "      <td>2545.72</td>\n",
       "      <td>2633.23</td>\n",
       "      <td>2782.38</td>\n",
       "      <td>3123.48</td>\n",
       "      <td>5642.0</td>\n",
       "    </tr>\n",
       "    <tr>\n",
       "      <th>BsmtFullBath</th>\n",
       "      <td>1460.0</td>\n",
       "      <td>0.425342</td>\n",
       "      <td>0.518911</td>\n",
       "      <td>0.00</td>\n",
       "      <td>0.000000</td>\n",
       "      <td>1.00</td>\n",
       "      <td>1.00</td>\n",
       "      <td>1.00</td>\n",
       "      <td>1.00</td>\n",
       "      <td>2.00</td>\n",
       "      <td>3.0</td>\n",
       "    </tr>\n",
       "    <tr>\n",
       "      <th>BsmtHalfBath</th>\n",
       "      <td>1460.0</td>\n",
       "      <td>0.057534</td>\n",
       "      <td>0.238753</td>\n",
       "      <td>0.00</td>\n",
       "      <td>0.000000</td>\n",
       "      <td>1.00</td>\n",
       "      <td>1.00</td>\n",
       "      <td>1.00</td>\n",
       "      <td>1.00</td>\n",
       "      <td>1.00</td>\n",
       "      <td>2.0</td>\n",
       "    </tr>\n",
       "    <tr>\n",
       "      <th>FullBath</th>\n",
       "      <td>1460.0</td>\n",
       "      <td>1.565068</td>\n",
       "      <td>0.550916</td>\n",
       "      <td>0.00</td>\n",
       "      <td>2.000000</td>\n",
       "      <td>2.00</td>\n",
       "      <td>2.00</td>\n",
       "      <td>2.00</td>\n",
       "      <td>3.00</td>\n",
       "      <td>3.00</td>\n",
       "      <td>3.0</td>\n",
       "    </tr>\n",
       "    <tr>\n",
       "      <th>HalfBath</th>\n",
       "      <td>1460.0</td>\n",
       "      <td>0.382877</td>\n",
       "      <td>0.502885</td>\n",
       "      <td>0.00</td>\n",
       "      <td>0.000000</td>\n",
       "      <td>1.00</td>\n",
       "      <td>1.00</td>\n",
       "      <td>1.00</td>\n",
       "      <td>1.00</td>\n",
       "      <td>1.00</td>\n",
       "      <td>2.0</td>\n",
       "    </tr>\n",
       "    <tr>\n",
       "      <th>BedroomAbvGr</th>\n",
       "      <td>1460.0</td>\n",
       "      <td>2.866438</td>\n",
       "      <td>0.815778</td>\n",
       "      <td>0.00</td>\n",
       "      <td>3.000000</td>\n",
       "      <td>4.00</td>\n",
       "      <td>4.00</td>\n",
       "      <td>4.00</td>\n",
       "      <td>4.00</td>\n",
       "      <td>5.00</td>\n",
       "      <td>8.0</td>\n",
       "    </tr>\n",
       "    <tr>\n",
       "      <th>KitchenAbvGr</th>\n",
       "      <td>1460.0</td>\n",
       "      <td>1.046575</td>\n",
       "      <td>0.220338</td>\n",
       "      <td>0.00</td>\n",
       "      <td>1.000000</td>\n",
       "      <td>1.00</td>\n",
       "      <td>2.00</td>\n",
       "      <td>2.00</td>\n",
       "      <td>2.00</td>\n",
       "      <td>2.00</td>\n",
       "      <td>3.0</td>\n",
       "    </tr>\n",
       "    <tr>\n",
       "      <th>TotRmsAbvGrd</th>\n",
       "      <td>1460.0</td>\n",
       "      <td>6.518493</td>\n",
       "      <td>1.623698</td>\n",
       "      <td>3.00</td>\n",
       "      <td>6.000000</td>\n",
       "      <td>10.00</td>\n",
       "      <td>10.00</td>\n",
       "      <td>10.00</td>\n",
       "      <td>10.82</td>\n",
       "      <td>11.00</td>\n",
       "      <td>14.0</td>\n",
       "    </tr>\n",
       "    <tr>\n",
       "      <th>Fireplaces</th>\n",
       "      <td>1460.0</td>\n",
       "      <td>0.613014</td>\n",
       "      <td>0.644666</td>\n",
       "      <td>0.00</td>\n",
       "      <td>1.000000</td>\n",
       "      <td>2.00</td>\n",
       "      <td>2.00</td>\n",
       "      <td>2.00</td>\n",
       "      <td>2.00</td>\n",
       "      <td>2.00</td>\n",
       "      <td>3.0</td>\n",
       "    </tr>\n",
       "    <tr>\n",
       "      <th>GarageYrBlt</th>\n",
       "      <td>1460.0</td>\n",
       "      <td>1979.976027</td>\n",
       "      <td>24.749688</td>\n",
       "      <td>1900.00</td>\n",
       "      <td>1984.500000</td>\n",
       "      <td>2007.00</td>\n",
       "      <td>2007.00</td>\n",
       "      <td>2008.00</td>\n",
       "      <td>2008.00</td>\n",
       "      <td>2009.00</td>\n",
       "      <td>2010.0</td>\n",
       "    </tr>\n",
       "    <tr>\n",
       "      <th>GarageCars</th>\n",
       "      <td>1460.0</td>\n",
       "      <td>1.767123</td>\n",
       "      <td>0.747315</td>\n",
       "      <td>0.00</td>\n",
       "      <td>2.000000</td>\n",
       "      <td>3.00</td>\n",
       "      <td>3.00</td>\n",
       "      <td>3.00</td>\n",
       "      <td>3.00</td>\n",
       "      <td>3.00</td>\n",
       "      <td>4.0</td>\n",
       "    </tr>\n",
       "    <tr>\n",
       "      <th>GarageArea</th>\n",
       "      <td>1460.0</td>\n",
       "      <td>472.980137</td>\n",
       "      <td>213.804841</td>\n",
       "      <td>0.00</td>\n",
       "      <td>480.000000</td>\n",
       "      <td>850.10</td>\n",
       "      <td>867.28</td>\n",
       "      <td>884.00</td>\n",
       "      <td>907.46</td>\n",
       "      <td>1002.79</td>\n",
       "      <td>1418.0</td>\n",
       "    </tr>\n",
       "    <tr>\n",
       "      <th>WoodDeckSF</th>\n",
       "      <td>1460.0</td>\n",
       "      <td>94.244521</td>\n",
       "      <td>125.338794</td>\n",
       "      <td>0.00</td>\n",
       "      <td>0.000000</td>\n",
       "      <td>335.00</td>\n",
       "      <td>359.20</td>\n",
       "      <td>385.38</td>\n",
       "      <td>430.10</td>\n",
       "      <td>505.46</td>\n",
       "      <td>857.0</td>\n",
       "    </tr>\n",
       "    <tr>\n",
       "      <th>OpenPorchSF</th>\n",
       "      <td>1460.0</td>\n",
       "      <td>46.660274</td>\n",
       "      <td>66.256028</td>\n",
       "      <td>0.00</td>\n",
       "      <td>25.000000</td>\n",
       "      <td>175.05</td>\n",
       "      <td>193.92</td>\n",
       "      <td>213.23</td>\n",
       "      <td>240.82</td>\n",
       "      <td>285.82</td>\n",
       "      <td>547.0</td>\n",
       "    </tr>\n",
       "    <tr>\n",
       "      <th>EnclosedPorch</th>\n",
       "      <td>1460.0</td>\n",
       "      <td>21.954110</td>\n",
       "      <td>61.119149</td>\n",
       "      <td>0.00</td>\n",
       "      <td>0.000000</td>\n",
       "      <td>180.15</td>\n",
       "      <td>193.28</td>\n",
       "      <td>216.00</td>\n",
       "      <td>235.64</td>\n",
       "      <td>261.05</td>\n",
       "      <td>552.0</td>\n",
       "    </tr>\n",
       "    <tr>\n",
       "      <th>3SsnPorch</th>\n",
       "      <td>1460.0</td>\n",
       "      <td>3.409589</td>\n",
       "      <td>29.317331</td>\n",
       "      <td>0.00</td>\n",
       "      <td>0.000000</td>\n",
       "      <td>0.00</td>\n",
       "      <td>0.00</td>\n",
       "      <td>0.00</td>\n",
       "      <td>0.00</td>\n",
       "      <td>168.00</td>\n",
       "      <td>508.0</td>\n",
       "    </tr>\n",
       "    <tr>\n",
       "      <th>ScreenPorch</th>\n",
       "      <td>1460.0</td>\n",
       "      <td>15.060959</td>\n",
       "      <td>55.757415</td>\n",
       "      <td>0.00</td>\n",
       "      <td>0.000000</td>\n",
       "      <td>160.00</td>\n",
       "      <td>180.00</td>\n",
       "      <td>192.00</td>\n",
       "      <td>223.64</td>\n",
       "      <td>268.05</td>\n",
       "      <td>480.0</td>\n",
       "    </tr>\n",
       "    <tr>\n",
       "      <th>PoolArea</th>\n",
       "      <td>1460.0</td>\n",
       "      <td>2.758904</td>\n",
       "      <td>40.177307</td>\n",
       "      <td>0.00</td>\n",
       "      <td>0.000000</td>\n",
       "      <td>0.00</td>\n",
       "      <td>0.00</td>\n",
       "      <td>0.00</td>\n",
       "      <td>0.00</td>\n",
       "      <td>0.00</td>\n",
       "      <td>738.0</td>\n",
       "    </tr>\n",
       "    <tr>\n",
       "      <th>MiscVal</th>\n",
       "      <td>1460.0</td>\n",
       "      <td>43.489041</td>\n",
       "      <td>496.123024</td>\n",
       "      <td>0.00</td>\n",
       "      <td>0.000000</td>\n",
       "      <td>0.00</td>\n",
       "      <td>0.00</td>\n",
       "      <td>400.00</td>\n",
       "      <td>500.00</td>\n",
       "      <td>700.00</td>\n",
       "      <td>15500.0</td>\n",
       "    </tr>\n",
       "    <tr>\n",
       "      <th>MoSold</th>\n",
       "      <td>1460.0</td>\n",
       "      <td>6.321918</td>\n",
       "      <td>2.703626</td>\n",
       "      <td>1.00</td>\n",
       "      <td>6.000000</td>\n",
       "      <td>11.00</td>\n",
       "      <td>11.64</td>\n",
       "      <td>12.00</td>\n",
       "      <td>12.00</td>\n",
       "      <td>12.00</td>\n",
       "      <td>12.0</td>\n",
       "    </tr>\n",
       "    <tr>\n",
       "      <th>YrSold</th>\n",
       "      <td>1460.0</td>\n",
       "      <td>2007.815753</td>\n",
       "      <td>1.328095</td>\n",
       "      <td>2006.00</td>\n",
       "      <td>2008.000000</td>\n",
       "      <td>2010.00</td>\n",
       "      <td>2010.00</td>\n",
       "      <td>2010.00</td>\n",
       "      <td>2010.00</td>\n",
       "      <td>2010.00</td>\n",
       "      <td>2010.0</td>\n",
       "    </tr>\n",
       "    <tr>\n",
       "      <th>SalePrice</th>\n",
       "      <td>1460.0</td>\n",
       "      <td>181037.521610</td>\n",
       "      <td>79253.376809</td>\n",
       "      <td>61815.97</td>\n",
       "      <td>163000.000000</td>\n",
       "      <td>326100.00</td>\n",
       "      <td>344151.48</td>\n",
       "      <td>374230.00</td>\n",
       "      <td>394931.06</td>\n",
       "      <td>442567.01</td>\n",
       "      <td>755000.0</td>\n",
       "    </tr>\n",
       "  </tbody>\n",
       "</table>\n",
       "</div>"
      ],
      "text/plain": [
       "                count           mean           std       min            50%  \\\n",
       "MSSubClass     1460.0      56.897260     42.300571     20.00      50.000000   \n",
       "LotFrontage    1460.0      70.049958     22.024023     21.00      70.049958   \n",
       "LotArea        1460.0   10517.721233   9980.463435   1680.00    9478.500000   \n",
       "OverallQual    1460.0       6.104110      1.369444      3.00       6.000000   \n",
       "OverallCond    1460.0       5.580137      1.098826      3.00       5.000000   \n",
       "YearBuilt      1460.0    1971.267808     30.202904   1872.00    1973.000000   \n",
       "YearRemodAdd   1460.0    1984.865753     20.645407   1950.00    1994.000000   \n",
       "MasVnrArea     1460.0     103.685262    180.569112      0.00       0.000000   \n",
       "BsmtFinSF1     1460.0     443.639726    456.098091      0.00     383.500000   \n",
       "BsmtFinSF2     1460.0      46.549315    161.319273      0.00       0.000000   \n",
       "BsmtUnfSF      1460.0     567.240411    441.866955      0.00     477.500000   \n",
       "TotalBsmtSF    1460.0    1057.429452    438.705324      0.00     991.500000   \n",
       "1stFlrSF       1460.0    1163.133562    385.676702    520.00    1087.000000   \n",
       "2ndFlrSF       1460.0     346.992466    436.528436      0.00       0.000000   \n",
       "LowQualFinSF   1460.0       5.844521     48.623081      0.00       0.000000   \n",
       "GrLivArea      1460.0    1516.542260    523.585992    692.18    1464.000000   \n",
       "BsmtFullBath   1460.0       0.425342      0.518911      0.00       0.000000   \n",
       "BsmtHalfBath   1460.0       0.057534      0.238753      0.00       0.000000   \n",
       "FullBath       1460.0       1.565068      0.550916      0.00       2.000000   \n",
       "HalfBath       1460.0       0.382877      0.502885      0.00       0.000000   \n",
       "BedroomAbvGr   1460.0       2.866438      0.815778      0.00       3.000000   \n",
       "KitchenAbvGr   1460.0       1.046575      0.220338      0.00       1.000000   \n",
       "TotRmsAbvGrd   1460.0       6.518493      1.623698      3.00       6.000000   \n",
       "Fireplaces     1460.0       0.613014      0.644666      0.00       1.000000   \n",
       "GarageYrBlt    1460.0    1979.976027     24.749688   1900.00    1984.500000   \n",
       "GarageCars     1460.0       1.767123      0.747315      0.00       2.000000   \n",
       "GarageArea     1460.0     472.980137    213.804841      0.00     480.000000   \n",
       "WoodDeckSF     1460.0      94.244521    125.338794      0.00       0.000000   \n",
       "OpenPorchSF    1460.0      46.660274     66.256028      0.00      25.000000   \n",
       "EnclosedPorch  1460.0      21.954110     61.119149      0.00       0.000000   \n",
       "3SsnPorch      1460.0       3.409589     29.317331      0.00       0.000000   \n",
       "ScreenPorch    1460.0      15.060959     55.757415      0.00       0.000000   \n",
       "PoolArea       1460.0       2.758904     40.177307      0.00       0.000000   \n",
       "MiscVal        1460.0      43.489041    496.123024      0.00       0.000000   \n",
       "MoSold         1460.0       6.321918      2.703626      1.00       6.000000   \n",
       "YrSold         1460.0    2007.815753      1.328095   2006.00    2008.000000   \n",
       "SalePrice      1460.0  181037.521610  79253.376809  61815.97  163000.000000   \n",
       "\n",
       "                     95%        96%        97%        98%        99%       max  \n",
       "MSSubClass        160.00     160.00     160.00     188.20     190.00     190.0  \n",
       "LotFrontage       104.00     107.00     114.00     120.82     137.41     313.0  \n",
       "LotArea         17401.15   18857.60   21571.80   25251.62   37567.64  215245.0  \n",
       "OverallQual         8.00       9.00       9.00       9.00      10.00      10.0  \n",
       "OverallCond         8.00       8.00       8.00       8.00       9.00       9.0  \n",
       "YearBuilt        2007.00    2007.00    2007.00    2008.00    2009.00    2010.0  \n",
       "YearRemodAdd     2007.00    2008.00    2008.00    2008.00    2009.00    2010.0  \n",
       "MasVnrArea        456.00     487.40     573.69     650.82     791.28    1600.0  \n",
       "BsmtFinSF1       1274.00    1309.00    1375.99    1442.64    1572.41    5644.0  \n",
       "BsmtFinSF2        396.20     479.64     546.23     658.12     830.38    1474.0  \n",
       "BsmtUnfSF        1468.00    1523.32    1589.38    1678.20    1797.05    2336.0  \n",
       "TotalBsmtSF      1753.00    1834.92    1905.46    2001.64    2155.05    6110.0  \n",
       "1stFlrSF         1831.25    1882.24    1981.61    2072.28    2219.46    4692.0  \n",
       "2ndFlrSF         1141.05    1183.92    1245.53    1318.56    1418.92    2065.0  \n",
       "LowQualFinSF        0.00       0.00       0.00       0.00     360.00     572.0  \n",
       "GrLivArea        2466.10    2545.72    2633.23    2782.38    3123.48    5642.0  \n",
       "BsmtFullBath        1.00       1.00       1.00       1.00       2.00       3.0  \n",
       "BsmtHalfBath        1.00       1.00       1.00       1.00       1.00       2.0  \n",
       "FullBath            2.00       2.00       2.00       3.00       3.00       3.0  \n",
       "HalfBath            1.00       1.00       1.00       1.00       1.00       2.0  \n",
       "BedroomAbvGr        4.00       4.00       4.00       4.00       5.00       8.0  \n",
       "KitchenAbvGr        1.00       2.00       2.00       2.00       2.00       3.0  \n",
       "TotRmsAbvGrd       10.00      10.00      10.00      10.82      11.00      14.0  \n",
       "Fireplaces          2.00       2.00       2.00       2.00       2.00       3.0  \n",
       "GarageYrBlt      2007.00    2007.00    2008.00    2008.00    2009.00    2010.0  \n",
       "GarageCars          3.00       3.00       3.00       3.00       3.00       4.0  \n",
       "GarageArea        850.10     867.28     884.00     907.46    1002.79    1418.0  \n",
       "WoodDeckSF        335.00     359.20     385.38     430.10     505.46     857.0  \n",
       "OpenPorchSF       175.05     193.92     213.23     240.82     285.82     547.0  \n",
       "EnclosedPorch     180.15     193.28     216.00     235.64     261.05     552.0  \n",
       "3SsnPorch           0.00       0.00       0.00       0.00     168.00     508.0  \n",
       "ScreenPorch       160.00     180.00     192.00     223.64     268.05     480.0  \n",
       "PoolArea            0.00       0.00       0.00       0.00       0.00     738.0  \n",
       "MiscVal             0.00       0.00     400.00     500.00     700.00   15500.0  \n",
       "MoSold             11.00      11.64      12.00      12.00      12.00      12.0  \n",
       "YrSold           2010.00    2010.00    2010.00    2010.00    2010.00    2010.0  \n",
       "SalePrice      326100.00  344151.48  374230.00  394931.06  442567.01  755000.0  "
      ]
     },
     "execution_count": 81,
     "metadata": {},
     "output_type": "execute_result"
    }
   ],
   "source": [
    "df.describe(percentiles=[0.95,0.96,0.97,0.98,0.99]).T"
   ]
  },
  {
   "cell_type": "code",
   "execution_count": 82,
   "id": "2981d6c7",
   "metadata": {},
   "outputs": [
    {
     "name": "stdout",
     "output_type": "stream",
     "text": [
      "['LotFrontage', 'LotArea', 'MasVnrArea', 'BsmtFinSF1', 'BsmtFinSF2', 'BsmtUnfSF', 'TotalBsmtSF', '1stFlrSF', '2ndFlrSF', 'LowQualFinSF', 'GrLivArea', 'BsmtFullBath', 'BsmtHalfBath', 'HalfBath', 'BedroomAbvGr', 'KitchenAbvGr', 'TotRmsAbvGrd', 'Fireplaces', 'GarageCars', 'GarageArea', 'WoodDeckSF', 'OpenPorchSF', 'EnclosedPorch', '3SsnPorch', 'ScreenPorch', 'PoolArea', 'MiscVal', 'SalePrice']\n"
     ]
    }
   ],
   "source": [
    "out_cols_98 = ['LotFrontage','LotArea','MasVnrArea','BsmtFinSF1','BsmtFinSF2',\n",
    "               'BsmtUnfSF', 'TotalBsmtSF', '1stFlrSF', '2ndFlrSF', 'LowQualFinSF',\n",
    "              'GrLivArea', 'BsmtFullBath', 'BsmtHalfBath', 'HalfBath',\n",
    "              'BedroomAbvGr', 'KitchenAbvGr', 'TotRmsAbvGrd', 'Fireplaces',\n",
    "               'GarageCars', 'GarageArea', 'WoodDeckSF', 'OpenPorchSF',\n",
    "              'EnclosedPorch', '3SsnPorch', 'ScreenPorch', 'PoolArea', 'MiscVal',\n",
    "               'SalePrice']\n",
    "print(out_cols_98)"
   ]
  },
  {
   "cell_type": "code",
   "execution_count": 83,
   "id": "1697828a",
   "metadata": {},
   "outputs": [],
   "source": [
    "def out_treat_upper(x):\n",
    "    x = x.clip(upper = x.quantile(0.98))\n",
    "    return x"
   ]
  },
  {
   "cell_type": "code",
   "execution_count": 84,
   "id": "af32f497",
   "metadata": {},
   "outputs": [],
   "source": [
    "df[out_cols_98] = df[out_cols_98].apply(out_treat_upper)"
   ]
  },
  {
   "cell_type": "code",
   "execution_count": 86,
   "id": "fe1c4afd",
   "metadata": {},
   "outputs": [],
   "source": [
    "df.to_csv('2Sept_HousePrice_processed_data.csv')\n",
    "df1 = df.copy()"
   ]
  },
  {
   "cell_type": "code",
   "execution_count": 87,
   "id": "5d21bb25",
   "metadata": {},
   "outputs": [
    {
     "data": {
      "text/plain": [
       "(1460, 76)"
      ]
     },
     "execution_count": 87,
     "metadata": {},
     "output_type": "execute_result"
    }
   ],
   "source": [
    "df.shape"
   ]
  },
  {
   "cell_type": "markdown",
   "id": "0b603b16",
   "metadata": {},
   "source": [
    "#### Label Encoding or Get Dummies"
   ]
  },
  {
   "cell_type": "code",
   "execution_count": 93,
   "id": "61df8217",
   "metadata": {},
   "outputs": [
    {
     "name": "stdout",
     "output_type": "stream",
     "text": [
      "Index(['MSZoning', 'Street', 'LotShape', 'LandContour', 'Utilities',\n",
      "       'LotConfig', 'LandSlope', 'Neighborhood', 'Condition1', 'Condition2',\n",
      "       'BldgType', 'HouseStyle', 'RoofStyle', 'RoofMatl', 'Exterior1st',\n",
      "       'Exterior2nd', 'MasVnrType', 'ExterQual', 'ExterCond', 'Foundation',\n",
      "       'BsmtQual', 'BsmtCond', 'BsmtExposure', 'BsmtFinType1', 'BsmtFinType2',\n",
      "       'Heating', 'HeatingQC', 'CentralAir', 'Electrical', 'KitchenQual',\n",
      "       'Functional', 'FireplaceQu', 'GarageType', 'GarageFinish', 'GarageQual',\n",
      "       'GarageCond', 'PavedDrive', 'SaleType', 'SaleCondition'],\n",
      "      dtype='object')\n"
     ]
    }
   ],
   "source": [
    "cat_cols = df.select_dtypes(include='object').columns\n",
    "print(cat_cols)"
   ]
  },
  {
   "cell_type": "code",
   "execution_count": 95,
   "id": "dc689619",
   "metadata": {},
   "outputs": [],
   "source": [
    "from sklearn.preprocessing import LabelEncoder"
   ]
  },
  {
   "cell_type": "code",
   "execution_count": 96,
   "id": "1916e4e6",
   "metadata": {},
   "outputs": [],
   "source": [
    "lb = LabelEncoder()\n",
    "for i in cat_cols:\n",
    "    df[i] = lb.fit_transform(df[i])"
   ]
  },
  {
   "cell_type": "code",
   "execution_count": 101,
   "id": "08c90f1a",
   "metadata": {},
   "outputs": [
    {
     "data": {
      "text/plain": [
       "Index([], dtype='object')"
      ]
     },
     "execution_count": 101,
     "metadata": {},
     "output_type": "execute_result"
    }
   ],
   "source": [
    "df.select_dtypes(include='object').columns"
   ]
  },
  {
   "cell_type": "code",
   "execution_count": 104,
   "id": "6c4b62c7",
   "metadata": {},
   "outputs": [
    {
     "name": "stdout",
     "output_type": "stream",
     "text": [
      "(1460, 75)\n",
      "(1460,)\n"
     ]
    }
   ],
   "source": [
    "x = df.drop('SalePrice',axis=1)\n",
    "y = df['SalePrice']\n",
    "print(x.shape)\n",
    "print(y.shape)"
   ]
  },
  {
   "cell_type": "code",
   "execution_count": 105,
   "id": "3a5f613e",
   "metadata": {},
   "outputs": [
    {
     "name": "stdout",
     "output_type": "stream",
     "text": [
      "(1095, 75)\n",
      "(365, 75)\n",
      "(1095,)\n",
      "(365,)\n"
     ]
    }
   ],
   "source": [
    "x_train,x_test,y_train,y_test = train_test_split(x,y,test_size=0.25,\n",
    "                                                random_state=42)\n",
    "print(x_train.shape)\n",
    "print(x_test.shape)\n",
    "print(y_train.shape)\n",
    "print(y_test.shape)"
   ]
  },
  {
   "cell_type": "code",
   "execution_count": 107,
   "id": "0082011a",
   "metadata": {},
   "outputs": [
    {
     "name": "stdout",
     "output_type": "stream",
     "text": [
      "Training Score 0.8910855793987772\n",
      "Testing Score 0.8925554263623825\n"
     ]
    }
   ],
   "source": [
    "m1 = LinearRegression()\n",
    "m1.fit(x_train,y_train)\n",
    "print('Training Score',m1.score(x_train,y_train))\n",
    "print('Testing Score',m1.score(x_test,y_test))"
   ]
  },
  {
   "cell_type": "code",
   "execution_count": 111,
   "id": "51dfda0b",
   "metadata": {},
   "outputs": [],
   "source": [
    "ypred_m1 = m1.predict(x_test)"
   ]
  },
  {
   "cell_type": "code",
   "execution_count": 114,
   "id": "49dcda98",
   "metadata": {},
   "outputs": [],
   "source": [
    "def model_metric_reg(ytest,ypred):\n",
    "    mae = mean_absolute_error(ytest,ypred)\n",
    "    mse = mean_squared_error(ytest,ypred)\n",
    "    rmse = np.sqrt(mean_squared_error(ytest,ypred))\n",
    "#     rmse = mean_squared_error(ytest,ypred,squared=False)\n",
    "    r2s = r2_score(ytest,ypred)\n",
    "    print('MAE',mae)\n",
    "    print('MSE',mse)\n",
    "    print('RMSE',rmse)\n",
    "    print('R2 Score',r2s)"
   ]
  },
  {
   "cell_type": "code",
   "execution_count": 115,
   "id": "56927f08",
   "metadata": {},
   "outputs": [
    {
     "name": "stdout",
     "output_type": "stream",
     "text": [
      "MAE 17218.492575734854\n",
      "MSE 568323874.7011012\n",
      "RMSE 23839.5443475982\n",
      "R2 Score 0.8925554263623825\n"
     ]
    }
   ],
   "source": [
    "model_metric_reg(y_test,ypred_m1)\n",
    "# 0.8925554263623825"
   ]
  },
  {
   "cell_type": "markdown",
   "id": "e342662e",
   "metadata": {},
   "source": [
    "### PCA"
   ]
  },
  {
   "cell_type": "code",
   "execution_count": 118,
   "id": "b71486ff",
   "metadata": {},
   "outputs": [],
   "source": [
    "from sklearn.preprocessing import StandardScaler"
   ]
  },
  {
   "cell_type": "code",
   "execution_count": 119,
   "id": "1278a4c7",
   "metadata": {},
   "outputs": [],
   "source": [
    "sc = StandardScaler()\n",
    "x_train_sc = sc.fit_transform(x_train)\n",
    "x_test_sc = sc.transform(x_test)"
   ]
  },
  {
   "cell_type": "code",
   "execution_count": 120,
   "id": "886d3c51",
   "metadata": {},
   "outputs": [
    {
     "name": "stdout",
     "output_type": "stream",
     "text": [
      "(1095, 75)\n",
      "(365, 75)\n"
     ]
    }
   ],
   "source": [
    "print(x_train_sc.shape)\n",
    "print(x_test_sc.shape)"
   ]
  },
  {
   "cell_type": "code",
   "execution_count": 121,
   "id": "5960fe4d",
   "metadata": {},
   "outputs": [],
   "source": [
    "from sklearn.decomposition import PCA\n",
    "pca = PCA()"
   ]
  },
  {
   "cell_type": "code",
   "execution_count": 122,
   "id": "4b47d42a",
   "metadata": {},
   "outputs": [
    {
     "name": "stdout",
     "output_type": "stream",
     "text": [
      "(1095, 75)\n",
      "(365, 75)\n"
     ]
    }
   ],
   "source": [
    "x_train_pc = pca.fit_transform(x_train_sc)\n",
    "x_test_pc = pca.transform(x_test_sc)\n",
    "print(x_train_pc.shape)\n",
    "print(x_test_pc.shape)"
   ]
  },
  {
   "cell_type": "code",
   "execution_count": 123,
   "id": "e055e2ce",
   "metadata": {},
   "outputs": [
    {
     "data": {
      "text/html": [
       "<div>\n",
       "<style scoped>\n",
       "    .dataframe tbody tr th:only-of-type {\n",
       "        vertical-align: middle;\n",
       "    }\n",
       "\n",
       "    .dataframe tbody tr th {\n",
       "        vertical-align: top;\n",
       "    }\n",
       "\n",
       "    .dataframe thead th {\n",
       "        text-align: right;\n",
       "    }\n",
       "</style>\n",
       "<table border=\"1\" class=\"dataframe\">\n",
       "  <thead>\n",
       "    <tr style=\"text-align: right;\">\n",
       "      <th></th>\n",
       "      <th>Eig_val</th>\n",
       "    </tr>\n",
       "  </thead>\n",
       "  <tbody>\n",
       "    <tr>\n",
       "      <th>0</th>\n",
       "      <td>10.393863</td>\n",
       "    </tr>\n",
       "    <tr>\n",
       "      <th>1</th>\n",
       "      <td>4.189622</td>\n",
       "    </tr>\n",
       "    <tr>\n",
       "      <th>2</th>\n",
       "      <td>3.840779</td>\n",
       "    </tr>\n",
       "    <tr>\n",
       "      <th>3</th>\n",
       "      <td>3.004302</td>\n",
       "    </tr>\n",
       "    <tr>\n",
       "      <th>4</th>\n",
       "      <td>2.434168</td>\n",
       "    </tr>\n",
       "  </tbody>\n",
       "</table>\n",
       "</div>"
      ],
      "text/plain": [
       "     Eig_val\n",
       "0  10.393863\n",
       "1   4.189622\n",
       "2   3.840779\n",
       "3   3.004302\n",
       "4   2.434168"
      ]
     },
     "execution_count": 123,
     "metadata": {},
     "output_type": "execute_result"
    }
   ],
   "source": [
    "eig_val = pd.DataFrame({'Eig_val':pca.explained_variance_})\n",
    "eig_val.head()"
   ]
  },
  {
   "cell_type": "code",
   "execution_count": 127,
   "id": "07ad6efe",
   "metadata": {},
   "outputs": [
    {
     "data": {
      "text/html": [
       "<div>\n",
       "<style scoped>\n",
       "    .dataframe tbody tr th:only-of-type {\n",
       "        vertical-align: middle;\n",
       "    }\n",
       "\n",
       "    .dataframe tbody tr th {\n",
       "        vertical-align: top;\n",
       "    }\n",
       "\n",
       "    .dataframe thead th {\n",
       "        text-align: right;\n",
       "    }\n",
       "</style>\n",
       "<table border=\"1\" class=\"dataframe\">\n",
       "  <thead>\n",
       "    <tr style=\"text-align: right;\">\n",
       "      <th></th>\n",
       "      <th>Eig_val</th>\n",
       "      <th>Contri</th>\n",
       "    </tr>\n",
       "  </thead>\n",
       "  <tbody>\n",
       "    <tr>\n",
       "      <th>0</th>\n",
       "      <td>10.393863</td>\n",
       "      <td>14.422738</td>\n",
       "    </tr>\n",
       "    <tr>\n",
       "      <th>1</th>\n",
       "      <td>4.189622</td>\n",
       "      <td>5.813605</td>\n",
       "    </tr>\n",
       "    <tr>\n",
       "      <th>2</th>\n",
       "      <td>3.840779</td>\n",
       "      <td>5.329544</td>\n",
       "    </tr>\n",
       "    <tr>\n",
       "      <th>3</th>\n",
       "      <td>3.004302</td>\n",
       "      <td>4.168831</td>\n",
       "    </tr>\n",
       "    <tr>\n",
       "      <th>4</th>\n",
       "      <td>2.434168</td>\n",
       "      <td>3.377701</td>\n",
       "    </tr>\n",
       "  </tbody>\n",
       "</table>\n",
       "</div>"
      ],
      "text/plain": [
       "     Eig_val     Contri\n",
       "0  10.393863  14.422738\n",
       "1   4.189622   5.813605\n",
       "2   3.840779   5.329544\n",
       "3   3.004302   4.168831\n",
       "4   2.434168   3.377701"
      ]
     },
     "execution_count": 127,
     "metadata": {},
     "output_type": "execute_result"
    }
   ],
   "source": [
    "eig_val['Contri'] = (eig_val['Eig_val']/eig_val['Eig_val'].sum())*100\n",
    "eig_val.head()"
   ]
  },
  {
   "cell_type": "code",
   "execution_count": 128,
   "id": "ffddd440",
   "metadata": {},
   "outputs": [
    {
     "data": {
      "text/html": [
       "<div>\n",
       "<style scoped>\n",
       "    .dataframe tbody tr th:only-of-type {\n",
       "        vertical-align: middle;\n",
       "    }\n",
       "\n",
       "    .dataframe tbody tr th {\n",
       "        vertical-align: top;\n",
       "    }\n",
       "\n",
       "    .dataframe thead th {\n",
       "        text-align: right;\n",
       "    }\n",
       "</style>\n",
       "<table border=\"1\" class=\"dataframe\">\n",
       "  <thead>\n",
       "    <tr style=\"text-align: right;\">\n",
       "      <th></th>\n",
       "      <th>Eig_val</th>\n",
       "      <th>Contri</th>\n",
       "      <th>CumSum</th>\n",
       "    </tr>\n",
       "  </thead>\n",
       "  <tbody>\n",
       "    <tr>\n",
       "      <th>0</th>\n",
       "      <td>10.393863</td>\n",
       "      <td>14.422738</td>\n",
       "      <td>14.422738</td>\n",
       "    </tr>\n",
       "    <tr>\n",
       "      <th>1</th>\n",
       "      <td>4.189622</td>\n",
       "      <td>5.813605</td>\n",
       "      <td>20.236343</td>\n",
       "    </tr>\n",
       "    <tr>\n",
       "      <th>2</th>\n",
       "      <td>3.840779</td>\n",
       "      <td>5.329544</td>\n",
       "      <td>25.565887</td>\n",
       "    </tr>\n",
       "    <tr>\n",
       "      <th>3</th>\n",
       "      <td>3.004302</td>\n",
       "      <td>4.168831</td>\n",
       "      <td>29.734718</td>\n",
       "    </tr>\n",
       "    <tr>\n",
       "      <th>4</th>\n",
       "      <td>2.434168</td>\n",
       "      <td>3.377701</td>\n",
       "      <td>33.112419</td>\n",
       "    </tr>\n",
       "  </tbody>\n",
       "</table>\n",
       "</div>"
      ],
      "text/plain": [
       "     Eig_val     Contri     CumSum\n",
       "0  10.393863  14.422738  14.422738\n",
       "1   4.189622   5.813605  20.236343\n",
       "2   3.840779   5.329544  25.565887\n",
       "3   3.004302   4.168831  29.734718\n",
       "4   2.434168   3.377701  33.112419"
      ]
     },
     "execution_count": 128,
     "metadata": {},
     "output_type": "execute_result"
    }
   ],
   "source": [
    "eig_val['CumSum'] = eig_val['Contri'].cumsum()\n",
    "eig_val.head()"
   ]
  },
  {
   "cell_type": "code",
   "execution_count": 129,
   "id": "f79ffe70",
   "metadata": {},
   "outputs": [
    {
     "data": {
      "text/plain": [
       "(75, 3)"
      ]
     },
     "execution_count": 129,
     "metadata": {},
     "output_type": "execute_result"
    }
   ],
   "source": [
    "eig_val.shape"
   ]
  },
  {
   "cell_type": "code",
   "execution_count": 131,
   "id": "aae6a936",
   "metadata": {},
   "outputs": [
    {
     "data": {
      "text/html": [
       "<div>\n",
       "<style scoped>\n",
       "    .dataframe tbody tr th:only-of-type {\n",
       "        vertical-align: middle;\n",
       "    }\n",
       "\n",
       "    .dataframe tbody tr th {\n",
       "        vertical-align: top;\n",
       "    }\n",
       "\n",
       "    .dataframe thead th {\n",
       "        text-align: right;\n",
       "    }\n",
       "</style>\n",
       "<table border=\"1\" class=\"dataframe\">\n",
       "  <thead>\n",
       "    <tr style=\"text-align: right;\">\n",
       "      <th></th>\n",
       "      <th>Eig_val</th>\n",
       "      <th>Contri</th>\n",
       "      <th>CumSum</th>\n",
       "    </tr>\n",
       "  </thead>\n",
       "  <tbody>\n",
       "    <tr>\n",
       "      <th>25</th>\n",
       "      <td>0.930589</td>\n",
       "      <td>1.291305</td>\n",
       "      <td>71.443284</td>\n",
       "    </tr>\n",
       "    <tr>\n",
       "      <th>26</th>\n",
       "      <td>0.879876</td>\n",
       "      <td>1.220935</td>\n",
       "      <td>72.664219</td>\n",
       "    </tr>\n",
       "    <tr>\n",
       "      <th>27</th>\n",
       "      <td>0.857633</td>\n",
       "      <td>1.190069</td>\n",
       "      <td>73.854288</td>\n",
       "    </tr>\n",
       "    <tr>\n",
       "      <th>28</th>\n",
       "      <td>0.842086</td>\n",
       "      <td>1.168496</td>\n",
       "      <td>75.022783</td>\n",
       "    </tr>\n",
       "    <tr>\n",
       "      <th>29</th>\n",
       "      <td>0.823961</td>\n",
       "      <td>1.143345</td>\n",
       "      <td>76.166128</td>\n",
       "    </tr>\n",
       "  </tbody>\n",
       "</table>\n",
       "</div>"
      ],
      "text/plain": [
       "     Eig_val    Contri     CumSum\n",
       "25  0.930589  1.291305  71.443284\n",
       "26  0.879876  1.220935  72.664219\n",
       "27  0.857633  1.190069  73.854288\n",
       "28  0.842086  1.168496  75.022783\n",
       "29  0.823961  1.143345  76.166128"
      ]
     },
     "execution_count": 131,
     "metadata": {},
     "output_type": "execute_result"
    }
   ],
   "source": [
    "eig_val[eig_val['CumSum']<77].tail()"
   ]
  },
  {
   "cell_type": "code",
   "execution_count": 133,
   "id": "cb2fc834",
   "metadata": {},
   "outputs": [
    {
     "data": {
      "text/plain": [
       "(1095, 75)"
      ]
     },
     "execution_count": 133,
     "metadata": {},
     "output_type": "execute_result"
    }
   ],
   "source": [
    "pca_train = pd.DataFrame(x_train_pc)\n",
    "pca_train.shape"
   ]
  },
  {
   "cell_type": "code",
   "execution_count": 134,
   "id": "75019b85",
   "metadata": {},
   "outputs": [
    {
     "data": {
      "text/plain": [
       "(1095, 29)"
      ]
     },
     "execution_count": 134,
     "metadata": {},
     "output_type": "execute_result"
    }
   ],
   "source": [
    "pca_train = pca_train.iloc[:,:29]\n",
    "pca_train.shape  # x_train"
   ]
  },
  {
   "cell_type": "code",
   "execution_count": 135,
   "id": "ea28ff32",
   "metadata": {},
   "outputs": [
    {
     "data": {
      "text/plain": [
       "(365, 75)"
      ]
     },
     "execution_count": 135,
     "metadata": {},
     "output_type": "execute_result"
    }
   ],
   "source": [
    "pca_test = pd.DataFrame(x_test_pc)\n",
    "pca_test.shape"
   ]
  },
  {
   "cell_type": "code",
   "execution_count": 136,
   "id": "b3f5fe87",
   "metadata": {},
   "outputs": [
    {
     "data": {
      "text/plain": [
       "(365, 29)"
      ]
     },
     "execution_count": 136,
     "metadata": {},
     "output_type": "execute_result"
    }
   ],
   "source": [
    "pca_test = pca_test.iloc[:,:29]\n",
    "pca_test.shape"
   ]
  },
  {
   "cell_type": "code",
   "execution_count": 137,
   "id": "8306e0a6",
   "metadata": {},
   "outputs": [
    {
     "name": "stdout",
     "output_type": "stream",
     "text": [
      "(1095, 29)\n",
      "(365, 29)\n",
      "(1095,)\n",
      "(365,)\n"
     ]
    }
   ],
   "source": [
    "print(pca_train.shape)\n",
    "print(pca_test.shape)\n",
    "print(y_train.shape)\n",
    "print(y_test.shape)"
   ]
  },
  {
   "cell_type": "code",
   "execution_count": 138,
   "id": "3d344cc6",
   "metadata": {},
   "outputs": [
    {
     "name": "stdout",
     "output_type": "stream",
     "text": [
      "Training Score 0.8649885023378601\n",
      "Testing Score 0.8978269695846304\n"
     ]
    }
   ],
   "source": [
    "m2 = LinearRegression()\n",
    "m2.fit(pca_train,y_train)\n",
    "print('Training Score',m2.score(pca_train,y_train))\n",
    "print('Testing Score',m2.score(pca_test,y_test))"
   ]
  },
  {
   "cell_type": "code",
   "execution_count": 139,
   "id": "a4c18397",
   "metadata": {},
   "outputs": [],
   "source": [
    "ypred_m2 = m2.predict(pca_test)"
   ]
  },
  {
   "cell_type": "code",
   "execution_count": 140,
   "id": "d5074f0e",
   "metadata": {},
   "outputs": [
    {
     "name": "stdout",
     "output_type": "stream",
     "text": [
      "MAE 17195.444257149273\n",
      "MSE 540440252.7712796\n",
      "RMSE 23247.370878688187\n",
      "R2 Score 0.8978269695846304\n"
     ]
    }
   ],
   "source": [
    "model_metric_reg(y_test,ypred_m2)\n",
    "# 0.8978269695846304"
   ]
  },
  {
   "cell_type": "code",
   "execution_count": null,
   "id": "f5f27787",
   "metadata": {},
   "outputs": [],
   "source": []
  }
 ],
 "metadata": {
  "kernelspec": {
   "display_name": "Python 3",
   "language": "python",
   "name": "python3"
  },
  "language_info": {
   "codemirror_mode": {
    "name": "ipython",
    "version": 3
   },
   "file_extension": ".py",
   "mimetype": "text/x-python",
   "name": "python",
   "nbconvert_exporter": "python",
   "pygments_lexer": "ipython3",
   "version": "3.8.8"
  }
 },
 "nbformat": 4,
 "nbformat_minor": 5
}
